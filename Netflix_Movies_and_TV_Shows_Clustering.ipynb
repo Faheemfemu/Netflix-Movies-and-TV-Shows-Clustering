{
  "nbformat": 4,
  "nbformat_minor": 0,
  "metadata": {
    "colab": {
      "provenance": [],
      "collapsed_sections": [
        "vncDsAP0Gaoa",
        "FJNUwmbgGyua",
        "w6K7xa23Elo4",
        "yQaldy8SH6Dl",
        "mDgbUHAGgjLW",
        "O_i_v8NEhb9l",
        "HhfV-JJviCcP",
        "Y3lxredqlCYt",
        "3RnN4peoiCZX",
        "x71ZqKXriCWQ",
        "7hBIi_osiCS2",
        "JlHwYmJAmNHm",
        "35m5QtbWiB9F",
        "PoPl-ycgm1ru",
        "H0kj-8xxnORC",
        "nA9Y7ga8ng1Z",
        "PBTbrJXOngz2",
        "u3PMJOP6ngxN",
        "dauF4eBmngu3",
        "bKJF3rekwFvQ",
        "MSa1f5Uengrz",
        "GF8Ens_Soomf",
        "0wOQAZs5pc--",
        "K5QZ13OEpz2H",
        "lQ7QKXXCp7Bj",
        "448CDAPjqfQr",
        "KSlN3yHqYklG",
        "t6dVpIINYklI",
        "ijmpgYnKYklI",
        "-JiQyfWJYklI",
        "EM7whBJCYoAo",
        "fge-S5ZAYoAp",
        "85gYPyotYoAp",
        "RoGjAbkUYoAp",
        "4Of9eVA-YrdM",
        "iky9q4vBYrdO",
        "F6T5p64dYrdO",
        "y-Ehk30pYrdP",
        "bamQiAODYuh1",
        "QHF8YVU7Yuh3",
        "GwzvFGzlYuh3",
        "qYpmQ266Yuh3",
        "OH-pJp9IphqM",
        "bbFf2-_FphqN",
        "_ouA3fa0phqN",
        "Seke61FWphqN",
        "PIIx-8_IphqN",
        "t27r6nlMphqO",
        "r2jJGEOYphqO",
        "b0JNsNcRphqO",
        "BZR9WyysphqO",
        "jj7wYXLtphqO",
        "eZrbJ2SmphqO",
        "rFu4xreNphqO",
        "YJ55k-q6phqO",
        "gCFgpxoyphqP",
        "OVtJsKN_phqQ",
        "lssrdh5qphqQ",
        "U2RJ9gkRphqQ",
        "1M8mcRywphqQ",
        "tgIPom80phqQ",
        "JMzcOPDDphqR",
        "x-EpHcCOp1ci",
        "X_VqEhTip1ck",
        "8zGJKyg5p1ck",
        "PVzmfK_Ep1ck",
        "n3dbpmDWp1ck",
        "ylSl6qgtp1ck",
        "ZWILFDl5p1ck",
        "M7G43BXep1ck",
        "Ag9LCva-p1cl",
        "E6MkPsBcp1cl",
        "2cELzS2fp1cl",
        "3MPXvC8up1cl",
        "NC_X3p0fY2L0",
        "UV0SzAkaZNRQ",
        "YPEH6qLeZNRQ",
        "q29F0dvdveiT",
        "EXh0U9oCveiU",
        "22aHeOlLveiV",
        "g-ATYxFrGrvw",
        "Yfr_Vlr8HBkt",
        "8yEUt7NnHlrM",
        "tEA2Xm5dHt1r",
        "I79__PHVH19G",
        "Ou-I18pAyIpj",
        "fF3858GYyt-u",
        "4_0_7-oCpUZd",
        "hwyV_J3ipUZe",
        "3yB-zSqbpUZe",
        "dEUvejAfpUZe",
        "Fd15vwWVpUZf",
        "bn_IUdTipZyH",
        "49K5P_iCpZyH",
        "Nff-vKELpZyI",
        "kLW572S8pZyI",
        "dWbDXHzopZyI",
        "yLjJCtPM0KBk",
        "xiyOF9F70UgQ",
        "7wuGOrhz0itI",
        "id1riN9m0vUs",
        "578E2V7j08f6",
        "89xtkJwZ18nB",
        "67NQN5KX2AMe",
        "Iwf50b-R2tYG",
        "GMQiZwjn3iu7",
        "WVIkgGqN3qsr",
        "XkPnILGE3zoT",
        "Hlsf0x5436Go",
        "mT9DMSJo4nBL",
        "c49ITxTc407N",
        "OeJFEK0N496M",
        "9ExmJH0g5HBk",
        "cJNqERVU536h",
        "k5UmGsbsOxih",
        "T0VqWOYE6DLQ",
        "qBMux9mC6MCf",
        "-oLEiFgy-5Pf",
        "C74aWNz2AliB",
        "2DejudWSA-a0",
        "pEMng2IbBLp7",
        "rAdphbQ9Bhjc",
        "TNVZ9zx19K6k",
        "nqoHp30x9hH9",
        "rMDnDkt2B6du",
        "yiiVWRdJDDil",
        "1UUpS68QDMuG",
        "kexQrXU-DjzY",
        "T5CmagL3EC8N",
        "BhH2vgX9EjGr",
        "qjKvONjwE8ra",
        "P1XJ9OREExlT",
        "VFOzZv6IFROw",
        "TIqpNgepFxVj",
        "VfCC591jGiD4",
        "OB4l2ZhMeS1U",
        "ArJBuiUVfxKd",
        "4qY1EAkEfxKe",
        "PiV4Ypx8fxKe",
        "TfvqoZmBfxKf",
        "dJ2tPlVmpsJ0",
        "JWYfwnehpsJ1",
        "-jK_YjpMpsJ2",
        "HAih1iBOpsJ2",
        "zVGeBEFhpsJ2",
        "bmKjuQ-FpsJ3",
        "Fze-IPXLpx6K",
        "7AN1z2sKpx6M",
        "9PIHJqyupx6M",
        "_-qAgymDpx6N",
        "Z-hykwinpx6N",
        "h_CCil-SKHpo",
        "cBFFvTBNJzUa",
        "HvGl1hHyA_VK",
        "EyNgTHvd2WFk",
        "KH5McJBi2d8v",
        "iW_Lq9qf2h6X",
        "-Kee-DAl2viO",
        "gCX9965dhzqZ",
        "gIfDvo9L0UH2"
      ],
      "include_colab_link": true
    },
    "kernelspec": {
      "name": "python3",
      "display_name": "Python 3"
    },
    "language_info": {
      "name": "python"
    },
    "gpuClass": "standard"
  },
  "cells": [
    {
      "cell_type": "markdown",
      "metadata": {
        "id": "view-in-github",
        "colab_type": "text"
      },
      "source": [
        "<a href=\"https://colab.research.google.com/github/Faheemfemu/Netflix-Movies-and-TV-Shows-Clustering/blob/main/Netflix_Movies_and_TV_Shows_Clustering.ipynb\" target=\"_parent\"><img src=\"https://colab.research.google.com/assets/colab-badge.svg\" alt=\"Open In Colab\"/></a>"
      ]
    },
    {
      "cell_type": "markdown",
      "source": [
        "# **Project Name**    - **Netflix Movies and TV Shows Clustering**\n"
      ],
      "metadata": {
        "id": "vncDsAP0Gaoa"
      }
    },
    {
      "cell_type": "markdown",
      "source": [
        "##### **Project Type**    - Unsupervised\n",
        "##### **Contribution**    - Individual\n"
      ],
      "metadata": {
        "id": "beRrZCGUAJYm"
      }
    },
    {
      "cell_type": "markdown",
      "source": [
        "# **Project Summary -**"
      ],
      "metadata": {
        "id": "FJNUwmbgGyua"
      }
    },
    {
      "cell_type": "markdown",
      "source": [
        "Write the summary here within 500-600 words."
      ],
      "metadata": {
        "id": "F6v_1wHtG2nS"
      }
    },
    {
      "cell_type": "markdown",
      "source": [
        "# **GitHub Link -**"
      ],
      "metadata": {
        "id": "w6K7xa23Elo4"
      }
    },
    {
      "cell_type": "markdown",
      "source": [
        "Provide your GitHub Link here."
      ],
      "metadata": {
        "id": "h1o69JH3Eqqn"
      }
    },
    {
      "cell_type": "markdown",
      "source": [
        "# **Problem Statement**\n"
      ],
      "metadata": {
        "id": "yQaldy8SH6Dl"
      }
    },
    {
      "cell_type": "markdown",
      "source": [
        "\n",
        "This dataset consists of tv shows and movies available on Netflix as of 2019. The dataset is collected from Flixable which is a third-party Netflix search engine.\n",
        "\n",
        "In 2018, they released an interesting report which shows that the number of TV shows on Netflix has nearly tripled since 2010. The streaming service’s number of movies has decreased by more than 2,000 titles since 2010, while its number of TV shows has nearly tripled. It will be interesting to explore what all other insights can be obtained from the same dataset.\n",
        "\n",
        "Integrating this dataset with other external datasets such as IMDB ratings, rotten tomatoes can also provide many interesting findings.\n"
      ],
      "metadata": {
        "id": "DpeJGUA3kjGy"
      }
    },
    {
      "cell_type": "markdown",
      "source": [
        "# **General Guidelines** : -  "
      ],
      "metadata": {
        "id": "mDgbUHAGgjLW"
      }
    },
    {
      "cell_type": "markdown",
      "source": [
        "1.   Well-structured, formatted, and commented code is required. \n",
        "2.   Exception Handling, Production Grade Code & Deployment Ready Code will be a plus. Those students will be awarded some additional credits. \n",
        "     \n",
        "     The additional credits will have advantages over other students during Star Student selection.\n",
        "       \n",
        "             [ Note: - Deployment Ready Code is defined as, the whole .ipynb notebook should be executable in one go\n",
        "                       without a single error logged. ]\n",
        "\n",
        "3.   Each and every logic should have proper comments.\n",
        "4. You may add as many number of charts you want. Make Sure for each and every chart the following format should be answered.\n",
        "        \n",
        "\n",
        "```\n",
        "# Chart visualization code\n",
        "```\n",
        "            \n",
        "\n",
        "*   Why did you pick the specific chart?\n",
        "*   What is/are the insight(s) found from the chart?\n",
        "* Will the gained insights help creating a positive business impact? \n",
        "Are there any insights that lead to negative growth? Justify with specific reason.\n",
        "\n",
        "5. You have to create at least 15 logical & meaningful charts having important insights.\n",
        "\n",
        "\n",
        "[ Hints : - Do the Vizualization in  a structured way while following \"UBM\" Rule. \n",
        "\n",
        "U - Univariate Analysis,\n",
        "\n",
        "B - Bivariate Analysis (Numerical - Categorical, Numerical - Numerical, Categorical - Categorical)\n",
        "\n",
        "M - Multivariate Analysis\n",
        " ]\n",
        "\n",
        "\n",
        "\n",
        "\n",
        "\n",
        "6. You may add more ml algorithms for model creation. Make sure for each and every algorithm, the following format should be answered.\n",
        "\n",
        "\n",
        "*   Explain the ML Model used and it's performance using Evaluation metric Score Chart.\n",
        "\n",
        "\n",
        "*   Cross- Validation & Hyperparameter Tuning\n",
        "\n",
        "*   Have you seen any improvement? Note down the improvement with updates Evaluation metric Score Chart.\n",
        "\n",
        "*   Explain each evaluation metric's indication towards business and the business impact pf the ML model used.\n",
        "\n",
        "\n",
        "\n",
        "\n",
        "\n",
        "\n",
        "\n",
        "\n",
        "\n",
        "\n",
        "\n",
        "\n",
        "\n",
        "\n",
        "\n",
        "\n",
        "\n",
        "\n"
      ],
      "metadata": {
        "id": "ZrxVaUj-hHfC"
      }
    },
    {
      "cell_type": "markdown",
      "source": [
        "# ***Let's Begin !***"
      ],
      "metadata": {
        "id": "O_i_v8NEhb9l"
      }
    },
    {
      "cell_type": "markdown",
      "source": [
        "## ***1. Know Your Data***"
      ],
      "metadata": {
        "id": "HhfV-JJviCcP"
      }
    },
    {
      "cell_type": "markdown",
      "source": [
        "### Import Libraries"
      ],
      "metadata": {
        "id": "Y3lxredqlCYt"
      }
    },
    {
      "cell_type": "code",
      "source": [
        "# Import Libraries\n",
        "import pandas as pd # Data manpulation\n",
        "import numpy as np # handling matrices\n",
        "from datetime import datetime as dt # Handling datetime\n",
        "from scipy.stats import * # statistics analysis\n",
        "import math # importing mathematics module\n",
        "\n",
        "# Visulization \n",
        "import matplotlib.pyplot as plt #matplot \n",
        "import missingno as msno #visulization for missing values\n",
        "%matplotlib  inline\n",
        "import seaborn as sns # Visulization \n",
        "sns.set()\n",
        "import plotly.express as px\n",
        "import plotly.graph_objects as go\n",
        "from plotly.subplots import make_subplots\n",
        "import plotly.figure_factory as ff\n",
        "from wordcloud import WordCloud, STOPWORDS\n",
        "\n",
        "# Handling warnings\n",
        "import warnings\n",
        "warnings.filterwarnings('ignore')\n",
        "import os\n",
        "import re\n",
        "from sklearn.preprocessing import RobustScaler #Handling Outliers"
      ],
      "metadata": {
        "id": "M8Vqi-pPk-HR"
      },
      "execution_count": 1,
      "outputs": []
    },
    {
      "cell_type": "markdown",
      "source": [
        "### Dataset Loading"
      ],
      "metadata": {
        "id": "3RnN4peoiCZX"
      }
    },
    {
      "cell_type": "code",
      "source": [
        "# Load Dataset\n",
        "#mounting the google drive to access the files\n",
        "from google.colab import drive\n",
        "drive.mount('/content/drive')\n",
        "df=pd.read_csv('/content/drive/MyDrive/AlmaBetter/Module 4 Machine Learning/Capstone Project - Unsupervised Machine Learning/ NETFLIX MOVIES AND TV SHOWS CLUSTERING.csv')"
      ],
      "metadata": {
        "id": "4CkvbW_SlZ_R",
        "colab": {
          "base_uri": "https://localhost:8080/"
        },
        "outputId": "7f7e6507-3d49-4bc6-9527-485d7bd191d4"
      },
      "execution_count": 3,
      "outputs": [
        {
          "output_type": "stream",
          "name": "stdout",
          "text": [
            "Drive already mounted at /content/drive; to attempt to forcibly remount, call drive.mount(\"/content/drive\", force_remount=True).\n"
          ]
        }
      ]
    },
    {
      "cell_type": "markdown",
      "source": [
        "### Dataset First View"
      ],
      "metadata": {
        "id": "x71ZqKXriCWQ"
      }
    },
    {
      "cell_type": "code",
      "source": [
        "# Dataset First Look\n",
        "df.head()"
      ],
      "metadata": {
        "id": "LWNFOSvLl09H",
        "colab": {
          "base_uri": "https://localhost:8080/",
          "height": 337
        },
        "outputId": "096dd146-6011-4ddf-8c83-5bef1031607f"
      },
      "execution_count": 4,
      "outputs": [
        {
          "output_type": "execute_result",
          "data": {
            "text/plain": [
              "  show_id     type  title           director  \\\n",
              "0      s1  TV Show     3%                NaN   \n",
              "1      s2    Movie   7:19  Jorge Michel Grau   \n",
              "2      s3    Movie  23:59       Gilbert Chan   \n",
              "3      s4    Movie      9        Shane Acker   \n",
              "4      s5    Movie     21     Robert Luketic   \n",
              "\n",
              "                                                cast        country  \\\n",
              "0  João Miguel, Bianca Comparato, Michel Gomes, R...         Brazil   \n",
              "1  Demián Bichir, Héctor Bonilla, Oscar Serrano, ...         Mexico   \n",
              "2  Tedd Chan, Stella Chung, Henley Hii, Lawrence ...      Singapore   \n",
              "3  Elijah Wood, John C. Reilly, Jennifer Connelly...  United States   \n",
              "4  Jim Sturgess, Kevin Spacey, Kate Bosworth, Aar...  United States   \n",
              "\n",
              "          date_added  release_year rating   duration  \\\n",
              "0    August 14, 2020          2020  TV-MA  4 Seasons   \n",
              "1  December 23, 2016          2016  TV-MA     93 min   \n",
              "2  December 20, 2018          2011      R     78 min   \n",
              "3  November 16, 2017          2009  PG-13     80 min   \n",
              "4    January 1, 2020          2008  PG-13    123 min   \n",
              "\n",
              "                                           listed_in  \\\n",
              "0  International TV Shows, TV Dramas, TV Sci-Fi &...   \n",
              "1                       Dramas, International Movies   \n",
              "2                Horror Movies, International Movies   \n",
              "3  Action & Adventure, Independent Movies, Sci-Fi...   \n",
              "4                                             Dramas   \n",
              "\n",
              "                                         description  \n",
              "0  In a future where the elite inhabit an island ...  \n",
              "1  After a devastating earthquake hits Mexico Cit...  \n",
              "2  When an army recruit is found dead, his fellow...  \n",
              "3  In a postapocalyptic world, rag-doll robots hi...  \n",
              "4  A brilliant group of students become card-coun...  "
            ],
            "text/html": [
              "\n",
              "  <div id=\"df-8b459848-c165-4416-8c56-b223fd23129d\">\n",
              "    <div class=\"colab-df-container\">\n",
              "      <div>\n",
              "<style scoped>\n",
              "    .dataframe tbody tr th:only-of-type {\n",
              "        vertical-align: middle;\n",
              "    }\n",
              "\n",
              "    .dataframe tbody tr th {\n",
              "        vertical-align: top;\n",
              "    }\n",
              "\n",
              "    .dataframe thead th {\n",
              "        text-align: right;\n",
              "    }\n",
              "</style>\n",
              "<table border=\"1\" class=\"dataframe\">\n",
              "  <thead>\n",
              "    <tr style=\"text-align: right;\">\n",
              "      <th></th>\n",
              "      <th>show_id</th>\n",
              "      <th>type</th>\n",
              "      <th>title</th>\n",
              "      <th>director</th>\n",
              "      <th>cast</th>\n",
              "      <th>country</th>\n",
              "      <th>date_added</th>\n",
              "      <th>release_year</th>\n",
              "      <th>rating</th>\n",
              "      <th>duration</th>\n",
              "      <th>listed_in</th>\n",
              "      <th>description</th>\n",
              "    </tr>\n",
              "  </thead>\n",
              "  <tbody>\n",
              "    <tr>\n",
              "      <th>0</th>\n",
              "      <td>s1</td>\n",
              "      <td>TV Show</td>\n",
              "      <td>3%</td>\n",
              "      <td>NaN</td>\n",
              "      <td>João Miguel, Bianca Comparato, Michel Gomes, R...</td>\n",
              "      <td>Brazil</td>\n",
              "      <td>August 14, 2020</td>\n",
              "      <td>2020</td>\n",
              "      <td>TV-MA</td>\n",
              "      <td>4 Seasons</td>\n",
              "      <td>International TV Shows, TV Dramas, TV Sci-Fi &amp;...</td>\n",
              "      <td>In a future where the elite inhabit an island ...</td>\n",
              "    </tr>\n",
              "    <tr>\n",
              "      <th>1</th>\n",
              "      <td>s2</td>\n",
              "      <td>Movie</td>\n",
              "      <td>7:19</td>\n",
              "      <td>Jorge Michel Grau</td>\n",
              "      <td>Demián Bichir, Héctor Bonilla, Oscar Serrano, ...</td>\n",
              "      <td>Mexico</td>\n",
              "      <td>December 23, 2016</td>\n",
              "      <td>2016</td>\n",
              "      <td>TV-MA</td>\n",
              "      <td>93 min</td>\n",
              "      <td>Dramas, International Movies</td>\n",
              "      <td>After a devastating earthquake hits Mexico Cit...</td>\n",
              "    </tr>\n",
              "    <tr>\n",
              "      <th>2</th>\n",
              "      <td>s3</td>\n",
              "      <td>Movie</td>\n",
              "      <td>23:59</td>\n",
              "      <td>Gilbert Chan</td>\n",
              "      <td>Tedd Chan, Stella Chung, Henley Hii, Lawrence ...</td>\n",
              "      <td>Singapore</td>\n",
              "      <td>December 20, 2018</td>\n",
              "      <td>2011</td>\n",
              "      <td>R</td>\n",
              "      <td>78 min</td>\n",
              "      <td>Horror Movies, International Movies</td>\n",
              "      <td>When an army recruit is found dead, his fellow...</td>\n",
              "    </tr>\n",
              "    <tr>\n",
              "      <th>3</th>\n",
              "      <td>s4</td>\n",
              "      <td>Movie</td>\n",
              "      <td>9</td>\n",
              "      <td>Shane Acker</td>\n",
              "      <td>Elijah Wood, John C. Reilly, Jennifer Connelly...</td>\n",
              "      <td>United States</td>\n",
              "      <td>November 16, 2017</td>\n",
              "      <td>2009</td>\n",
              "      <td>PG-13</td>\n",
              "      <td>80 min</td>\n",
              "      <td>Action &amp; Adventure, Independent Movies, Sci-Fi...</td>\n",
              "      <td>In a postapocalyptic world, rag-doll robots hi...</td>\n",
              "    </tr>\n",
              "    <tr>\n",
              "      <th>4</th>\n",
              "      <td>s5</td>\n",
              "      <td>Movie</td>\n",
              "      <td>21</td>\n",
              "      <td>Robert Luketic</td>\n",
              "      <td>Jim Sturgess, Kevin Spacey, Kate Bosworth, Aar...</td>\n",
              "      <td>United States</td>\n",
              "      <td>January 1, 2020</td>\n",
              "      <td>2008</td>\n",
              "      <td>PG-13</td>\n",
              "      <td>123 min</td>\n",
              "      <td>Dramas</td>\n",
              "      <td>A brilliant group of students become card-coun...</td>\n",
              "    </tr>\n",
              "  </tbody>\n",
              "</table>\n",
              "</div>\n",
              "      <button class=\"colab-df-convert\" onclick=\"convertToInteractive('df-8b459848-c165-4416-8c56-b223fd23129d')\"\n",
              "              title=\"Convert this dataframe to an interactive table.\"\n",
              "              style=\"display:none;\">\n",
              "        \n",
              "  <svg xmlns=\"http://www.w3.org/2000/svg\" height=\"24px\"viewBox=\"0 0 24 24\"\n",
              "       width=\"24px\">\n",
              "    <path d=\"M0 0h24v24H0V0z\" fill=\"none\"/>\n",
              "    <path d=\"M18.56 5.44l.94 2.06.94-2.06 2.06-.94-2.06-.94-.94-2.06-.94 2.06-2.06.94zm-11 1L8.5 8.5l.94-2.06 2.06-.94-2.06-.94L8.5 2.5l-.94 2.06-2.06.94zm10 10l.94 2.06.94-2.06 2.06-.94-2.06-.94-.94-2.06-.94 2.06-2.06.94z\"/><path d=\"M17.41 7.96l-1.37-1.37c-.4-.4-.92-.59-1.43-.59-.52 0-1.04.2-1.43.59L10.3 9.45l-7.72 7.72c-.78.78-.78 2.05 0 2.83L4 21.41c.39.39.9.59 1.41.59.51 0 1.02-.2 1.41-.59l7.78-7.78 2.81-2.81c.8-.78.8-2.07 0-2.86zM5.41 20L4 18.59l7.72-7.72 1.47 1.35L5.41 20z\"/>\n",
              "  </svg>\n",
              "      </button>\n",
              "      \n",
              "  <style>\n",
              "    .colab-df-container {\n",
              "      display:flex;\n",
              "      flex-wrap:wrap;\n",
              "      gap: 12px;\n",
              "    }\n",
              "\n",
              "    .colab-df-convert {\n",
              "      background-color: #E8F0FE;\n",
              "      border: none;\n",
              "      border-radius: 50%;\n",
              "      cursor: pointer;\n",
              "      display: none;\n",
              "      fill: #1967D2;\n",
              "      height: 32px;\n",
              "      padding: 0 0 0 0;\n",
              "      width: 32px;\n",
              "    }\n",
              "\n",
              "    .colab-df-convert:hover {\n",
              "      background-color: #E2EBFA;\n",
              "      box-shadow: 0px 1px 2px rgba(60, 64, 67, 0.3), 0px 1px 3px 1px rgba(60, 64, 67, 0.15);\n",
              "      fill: #174EA6;\n",
              "    }\n",
              "\n",
              "    [theme=dark] .colab-df-convert {\n",
              "      background-color: #3B4455;\n",
              "      fill: #D2E3FC;\n",
              "    }\n",
              "\n",
              "    [theme=dark] .colab-df-convert:hover {\n",
              "      background-color: #434B5C;\n",
              "      box-shadow: 0px 1px 3px 1px rgba(0, 0, 0, 0.15);\n",
              "      filter: drop-shadow(0px 1px 2px rgba(0, 0, 0, 0.3));\n",
              "      fill: #FFFFFF;\n",
              "    }\n",
              "  </style>\n",
              "\n",
              "      <script>\n",
              "        const buttonEl =\n",
              "          document.querySelector('#df-8b459848-c165-4416-8c56-b223fd23129d button.colab-df-convert');\n",
              "        buttonEl.style.display =\n",
              "          google.colab.kernel.accessAllowed ? 'block' : 'none';\n",
              "\n",
              "        async function convertToInteractive(key) {\n",
              "          const element = document.querySelector('#df-8b459848-c165-4416-8c56-b223fd23129d');\n",
              "          const dataTable =\n",
              "            await google.colab.kernel.invokeFunction('convertToInteractive',\n",
              "                                                     [key], {});\n",
              "          if (!dataTable) return;\n",
              "\n",
              "          const docLinkHtml = 'Like what you see? Visit the ' +\n",
              "            '<a target=\"_blank\" href=https://colab.research.google.com/notebooks/data_table.ipynb>data table notebook</a>'\n",
              "            + ' to learn more about interactive tables.';\n",
              "          element.innerHTML = '';\n",
              "          dataTable['output_type'] = 'display_data';\n",
              "          await google.colab.output.renderOutput(dataTable, element);\n",
              "          const docLink = document.createElement('div');\n",
              "          docLink.innerHTML = docLinkHtml;\n",
              "          element.appendChild(docLink);\n",
              "        }\n",
              "      </script>\n",
              "    </div>\n",
              "  </div>\n",
              "  "
            ]
          },
          "metadata": {},
          "execution_count": 4
        }
      ]
    },
    {
      "cell_type": "markdown",
      "source": [
        "### Dataset Rows & Columns count"
      ],
      "metadata": {
        "id": "7hBIi_osiCS2"
      }
    },
    {
      "cell_type": "code",
      "source": [
        "# Dataset Rows & Columns count\n",
        "df.shape"
      ],
      "metadata": {
        "id": "Kllu7SJgmLij",
        "colab": {
          "base_uri": "https://localhost:8080/"
        },
        "outputId": "bfb2526a-9687-403b-ecb2-f3652e3b3618"
      },
      "execution_count": 6,
      "outputs": [
        {
          "output_type": "execute_result",
          "data": {
            "text/plain": [
              "(7787, 12)"
            ]
          },
          "metadata": {},
          "execution_count": 6
        }
      ]
    },
    {
      "cell_type": "markdown",
      "source": [
        "### Dataset Information"
      ],
      "metadata": {
        "id": "JlHwYmJAmNHm"
      }
    },
    {
      "cell_type": "code",
      "source": [
        "# Dataset Info\n",
        "df.info()"
      ],
      "metadata": {
        "id": "e9hRXRi6meOf",
        "colab": {
          "base_uri": "https://localhost:8080/"
        },
        "outputId": "9fa8d6a8-478a-4e36-fffb-50f94817d0fd"
      },
      "execution_count": 7,
      "outputs": [
        {
          "output_type": "stream",
          "name": "stdout",
          "text": [
            "<class 'pandas.core.frame.DataFrame'>\n",
            "RangeIndex: 7787 entries, 0 to 7786\n",
            "Data columns (total 12 columns):\n",
            " #   Column        Non-Null Count  Dtype \n",
            "---  ------        --------------  ----- \n",
            " 0   show_id       7787 non-null   object\n",
            " 1   type          7787 non-null   object\n",
            " 2   title         7787 non-null   object\n",
            " 3   director      5398 non-null   object\n",
            " 4   cast          7069 non-null   object\n",
            " 5   country       7280 non-null   object\n",
            " 6   date_added    7777 non-null   object\n",
            " 7   release_year  7787 non-null   int64 \n",
            " 8   rating        7780 non-null   object\n",
            " 9   duration      7787 non-null   object\n",
            " 10  listed_in     7787 non-null   object\n",
            " 11  description   7787 non-null   object\n",
            "dtypes: int64(1), object(11)\n",
            "memory usage: 730.2+ KB\n"
          ]
        }
      ]
    },
    {
      "cell_type": "markdown",
      "source": [
        "#### Duplicate Values"
      ],
      "metadata": {
        "id": "35m5QtbWiB9F"
      }
    },
    {
      "cell_type": "code",
      "source": [
        "# Dataset Duplicate Value Count\n",
        "df.duplicated().sum()"
      ],
      "metadata": {
        "id": "1sLdpKYkmox0",
        "colab": {
          "base_uri": "https://localhost:8080/"
        },
        "outputId": "9a909f8a-ba6f-4ebd-fe3a-14767388c810"
      },
      "execution_count": 9,
      "outputs": [
        {
          "output_type": "execute_result",
          "data": {
            "text/plain": [
              "0"
            ]
          },
          "metadata": {},
          "execution_count": 9
        }
      ]
    },
    {
      "cell_type": "markdown",
      "source": [
        "#### Missing Values/Null Values"
      ],
      "metadata": {
        "id": "PoPl-ycgm1ru"
      }
    },
    {
      "cell_type": "code",
      "source": [
        "# Missing Values/Null Values Count\n",
        "df.isnull().sum()"
      ],
      "metadata": {
        "id": "GgHWkxvamxVg",
        "colab": {
          "base_uri": "https://localhost:8080/"
        },
        "outputId": "e5a5e67f-1e55-43d5-c423-742cc00497be"
      },
      "execution_count": 10,
      "outputs": [
        {
          "output_type": "execute_result",
          "data": {
            "text/plain": [
              "show_id            0\n",
              "type               0\n",
              "title              0\n",
              "director        2389\n",
              "cast             718\n",
              "country          507\n",
              "date_added        10\n",
              "release_year       0\n",
              "rating             7\n",
              "duration           0\n",
              "listed_in          0\n",
              "description        0\n",
              "dtype: int64"
            ]
          },
          "metadata": {},
          "execution_count": 10
        }
      ]
    },
    {
      "cell_type": "code",
      "source": [
        "# Visualizing the missing values\n",
        "# Checking Null Value by plotting Heatmap\n",
        "sns.heatmap(df.isnull(),cbar=False);"
      ],
      "metadata": {
        "id": "3q5wnI3om9sJ",
        "colab": {
          "base_uri": "https://localhost:8080/",
          "height": 525
        },
        "outputId": "6c1e680c-cbb6-4910-8ffd-102d6e14664b"
      },
      "execution_count": 11,
      "outputs": [
        {
          "output_type": "display_data",
          "data": {
            "text/plain": [
              "<Figure size 640x480 with 1 Axes>"
            ],
            "image/png": "[encoded data removed]"
          },
          "metadata": {}
        }
      ]
    },
    {
      "cell_type": "markdown",
      "source": [
        "### What did you know about your dataset?"
      ],
      "metadata": {
        "id": "H0kj-8xxnORC"
      }
    },
    {
      "cell_type": "markdown",
      "source": [
        "Answer Here\n",
        "\n",
        "* Dataset has total of 7787 observation and 12 features.\n",
        "* Dataset is a mixture of integer and object data type.\n",
        "\n",
        "\n",
        "* The missing values in the director, cast, and country attributes can be replaced with 'Unknown'\n",
        "* 10 records with missing values in the date_added column can be dropped.\n",
        "* The missing values in rating can be imputed with its mode, since this attribute is discrete."
      ],
      "metadata": {
        "id": "gfoNAAC-nUe_"
      }
    },
    {
      "cell_type": "markdown",
      "source": [
        "## ***2. Understanding Your Variables***"
      ],
      "metadata": {
        "id": "nA9Y7ga8ng1Z"
      }
    },
    {
      "cell_type": "code",
      "source": [
        "# Dataset Columns\n",
        "df.columns"
      ],
      "metadata": {
        "id": "j7xfkqrt5Ag5",
        "colab": {
          "base_uri": "https://localhost:8080/"
        },
        "outputId": "13586c22-bd1d-4727-dc64-4f93676b5d15"
      },
      "execution_count": 13,
      "outputs": [
        {
          "output_type": "execute_result",
          "data": {
            "text/plain": [
              "Index(['show_id', 'type', 'title', 'director', 'cast', 'country', 'date_added',\n",
              "       'release_year', 'rating', 'duration', 'listed_in', 'description'],\n",
              "      dtype='object')"
            ]
          },
          "metadata": {},
          "execution_count": 13
        }
      ]
    },
    {
      "cell_type": "code",
      "source": [
        "# Dataset Describe\n",
        "df.describe(include='all')"
      ],
      "metadata": {
        "id": "DnOaZdaE5Q5t",
        "colab": {
          "base_uri": "https://localhost:8080/",
          "height": 455
        },
        "outputId": "6242d87d-fc99-43de-9a31-3a0acd5743f0"
      },
      "execution_count": 15,
      "outputs": [
        {
          "output_type": "execute_result",
          "data": {
            "text/plain": [
              "       show_id   type title                director                cast  \\\n",
              "count     7787   7787  7787                    5398                7069   \n",
              "unique    7787      2  7787                    4049                6831   \n",
              "top         s1  Movie    3%  Raúl Campos, Jan Suter  David Attenborough   \n",
              "freq         1   5377     1                      18                  18   \n",
              "mean       NaN    NaN   NaN                     NaN                 NaN   \n",
              "std        NaN    NaN   NaN                     NaN                 NaN   \n",
              "min        NaN    NaN   NaN                     NaN                 NaN   \n",
              "25%        NaN    NaN   NaN                     NaN                 NaN   \n",
              "50%        NaN    NaN   NaN                     NaN                 NaN   \n",
              "75%        NaN    NaN   NaN                     NaN                 NaN   \n",
              "max        NaN    NaN   NaN                     NaN                 NaN   \n",
              "\n",
              "              country       date_added  release_year rating  duration  \\\n",
              "count            7280             7777   7787.000000   7780      7787   \n",
              "unique            681             1565           NaN     14       216   \n",
              "top     United States  January 1, 2020           NaN  TV-MA  1 Season   \n",
              "freq             2555              118           NaN   2863      1608   \n",
              "mean              NaN              NaN   2013.932580    NaN       NaN   \n",
              "std               NaN              NaN      8.757395    NaN       NaN   \n",
              "min               NaN              NaN   1925.000000    NaN       NaN   \n",
              "25%               NaN              NaN   2013.000000    NaN       NaN   \n",
              "50%               NaN              NaN   2017.000000    NaN       NaN   \n",
              "75%               NaN              NaN   2018.000000    NaN       NaN   \n",
              "max               NaN              NaN   2021.000000    NaN       NaN   \n",
              "\n",
              "            listed_in                                        description  \n",
              "count            7787                                               7787  \n",
              "unique            492                                               7769  \n",
              "top     Documentaries  Multiple women report their husbands as missin...  \n",
              "freq              334                                                  3  \n",
              "mean              NaN                                                NaN  \n",
              "std               NaN                                                NaN  \n",
              "min               NaN                                                NaN  \n",
              "25%               NaN                                                NaN  \n",
              "50%               NaN                                                NaN  \n",
              "75%               NaN                                                NaN  \n",
              "max               NaN                                                NaN  "
            ],
            "text/html": [
              "\n",
              "  <div id=\"df-850407a6-fa1d-49c9-89a2-33f7056cd4bd\">\n",
              "    <div class=\"colab-df-container\">\n",
              "      <div>\n",
              "<style scoped>\n",
              "    .dataframe tbody tr th:only-of-type {\n",
              "        vertical-align: middle;\n",
              "    }\n",
              "\n",
              "    .dataframe tbody tr th {\n",
              "        vertical-align: top;\n",
              "    }\n",
              "\n",
              "    .dataframe thead th {\n",
              "        text-align: right;\n",
              "    }\n",
              "</style>\n",
              "<table border=\"1\" class=\"dataframe\">\n",
              "  <thead>\n",
              "    <tr style=\"text-align: right;\">\n",
              "      <th></th>\n",
              "      <th>show_id</th>\n",
              "      <th>type</th>\n",
              "      <th>title</th>\n",
              "      <th>director</th>\n",
              "      <th>cast</th>\n",
              "      <th>country</th>\n",
              "      <th>date_added</th>\n",
              "      <th>release_year</th>\n",
              "      <th>rating</th>\n",
              "      <th>duration</th>\n",
              "      <th>listed_in</th>\n",
              "      <th>description</th>\n",
              "    </tr>\n",
              "  </thead>\n",
              "  <tbody>\n",
              "    <tr>\n",
              "      <th>count</th>\n",
              "      <td>7787</td>\n",
              "      <td>7787</td>\n",
              "      <td>7787</td>\n",
              "      <td>5398</td>\n",
              "      <td>7069</td>\n",
              "      <td>7280</td>\n",
              "      <td>7777</td>\n",
              "      <td>7787.000000</td>\n",
              "      <td>7780</td>\n",
              "      <td>7787</td>\n",
              "      <td>7787</td>\n",
              "      <td>7787</td>\n",
              "    </tr>\n",
              "    <tr>\n",
              "      <th>unique</th>\n",
              "      <td>7787</td>\n",
              "      <td>2</td>\n",
              "      <td>7787</td>\n",
              "      <td>4049</td>\n",
              "      <td>6831</td>\n",
              "      <td>681</td>\n",
              "      <td>1565</td>\n",
              "      <td>NaN</td>\n",
              "      <td>14</td>\n",
              "      <td>216</td>\n",
              "      <td>492</td>\n",
              "      <td>7769</td>\n",
              "    </tr>\n",
              "    <tr>\n",
              "      <th>top</th>\n",
              "      <td>s1</td>\n",
              "      <td>Movie</td>\n",
              "      <td>3%</td>\n",
              "      <td>Raúl Campos, Jan Suter</td>\n",
              "      <td>David Attenborough</td>\n",
              "      <td>United States</td>\n",
              "      <td>January 1, 2020</td>\n",
              "      <td>NaN</td>\n",
              "      <td>TV-MA</td>\n",
              "      <td>1 Season</td>\n",
              "      <td>Documentaries</td>\n",
              "      <td>Multiple women report their husbands as missin...</td>\n",
              "    </tr>\n",
              "    <tr>\n",
              "      <th>freq</th>\n",
              "      <td>1</td>\n",
              "      <td>5377</td>\n",
              "      <td>1</td>\n",
              "      <td>18</td>\n",
              "      <td>18</td>\n",
              "      <td>2555</td>\n",
              "      <td>118</td>\n",
              "      <td>NaN</td>\n",
              "      <td>2863</td>\n",
              "      <td>1608</td>\n",
              "      <td>334</td>\n",
              "      <td>3</td>\n",
              "    </tr>\n",
              "    <tr>\n",
              "      <th>mean</th>\n",
              "      <td>NaN</td>\n",
              "      <td>NaN</td>\n",
              "      <td>NaN</td>\n",
              "      <td>NaN</td>\n",
              "      <td>NaN</td>\n",
              "      <td>NaN</td>\n",
              "      <td>NaN</td>\n",
              "      <td>2013.932580</td>\n",
              "      <td>NaN</td>\n",
              "      <td>NaN</td>\n",
              "      <td>NaN</td>\n",
              "      <td>NaN</td>\n",
              "    </tr>\n",
              "    <tr>\n",
              "      <th>std</th>\n",
              "      <td>NaN</td>\n",
              "      <td>NaN</td>\n",
              "      <td>NaN</td>\n",
              "      <td>NaN</td>\n",
              "      <td>NaN</td>\n",
              "      <td>NaN</td>\n",
              "      <td>NaN</td>\n",
              "      <td>8.757395</td>\n",
              "      <td>NaN</td>\n",
              "      <td>NaN</td>\n",
              "      <td>NaN</td>\n",
              "      <td>NaN</td>\n",
              "    </tr>\n",
              "    <tr>\n",
              "      <th>min</th>\n",
              "      <td>NaN</td>\n",
              "      <td>NaN</td>\n",
              "      <td>NaN</td>\n",
              "      <td>NaN</td>\n",
              "      <td>NaN</td>\n",
              "      <td>NaN</td>\n",
              "      <td>NaN</td>\n",
              "      <td>1925.000000</td>\n",
              "      <td>NaN</td>\n",
              "      <td>NaN</td>\n",
              "      <td>NaN</td>\n",
              "      <td>NaN</td>\n",
              "    </tr>\n",
              "    <tr>\n",
              "      <th>25%</th>\n",
              "      <td>NaN</td>\n",
              "      <td>NaN</td>\n",
              "      <td>NaN</td>\n",
              "      <td>NaN</td>\n",
              "      <td>NaN</td>\n",
              "      <td>NaN</td>\n",
              "      <td>NaN</td>\n",
              "      <td>2013.000000</td>\n",
              "      <td>NaN</td>\n",
              "      <td>NaN</td>\n",
              "      <td>NaN</td>\n",
              "      <td>NaN</td>\n",
              "    </tr>\n",
              "    <tr>\n",
              "      <th>50%</th>\n",
              "      <td>NaN</td>\n",
              "      <td>NaN</td>\n",
              "      <td>NaN</td>\n",
              "      <td>NaN</td>\n",
              "      <td>NaN</td>\n",
              "      <td>NaN</td>\n",
              "      <td>NaN</td>\n",
              "      <td>2017.000000</td>\n",
              "      <td>NaN</td>\n",
              "      <td>NaN</td>\n",
              "      <td>NaN</td>\n",
              "      <td>NaN</td>\n",
              "    </tr>\n",
              "    <tr>\n",
              "      <th>75%</th>\n",
              "      <td>NaN</td>\n",
              "      <td>NaN</td>\n",
              "      <td>NaN</td>\n",
              "      <td>NaN</td>\n",
              "      <td>NaN</td>\n",
              "      <td>NaN</td>\n",
              "      <td>NaN</td>\n",
              "      <td>2018.000000</td>\n",
              "      <td>NaN</td>\n",
              "      <td>NaN</td>\n",
              "      <td>NaN</td>\n",
              "      <td>NaN</td>\n",
              "    </tr>\n",
              "    <tr>\n",
              "      <th>max</th>\n",
              "      <td>NaN</td>\n",
              "      <td>NaN</td>\n",
              "      <td>NaN</td>\n",
              "      <td>NaN</td>\n",
              "      <td>NaN</td>\n",
              "      <td>NaN</td>\n",
              "      <td>NaN</td>\n",
              "      <td>2021.000000</td>\n",
              "      <td>NaN</td>\n",
              "      <td>NaN</td>\n",
              "      <td>NaN</td>\n",
              "      <td>NaN</td>\n",
              "    </tr>\n",
              "  </tbody>\n",
              "</table>\n",
              "</div>\n",
              "      <button class=\"colab-df-convert\" onclick=\"convertToInteractive('df-850407a6-fa1d-49c9-89a2-33f7056cd4bd')\"\n",
              "              title=\"Convert this dataframe to an interactive table.\"\n",
              "              style=\"display:none;\">\n",
              "        \n",
              "  <svg xmlns=\"http://www.w3.org/2000/svg\" height=\"24px\"viewBox=\"0 0 24 24\"\n",
              "       width=\"24px\">\n",
              "    <path d=\"M0 0h24v24H0V0z\" fill=\"none\"/>\n",
              "    <path d=\"M18.56 5.44l.94 2.06.94-2.06 2.06-.94-2.06-.94-.94-2.06-.94 2.06-2.06.94zm-11 1L8.5 8.5l.94-2.06 2.06-.94-2.06-.94L8.5 2.5l-.94 2.06-2.06.94zm10 10l.94 2.06.94-2.06 2.06-.94-2.06-.94-.94-2.06-.94 2.06-2.06.94z\"/><path d=\"M17.41 7.96l-1.37-1.37c-.4-.4-.92-.59-1.43-.59-.52 0-1.04.2-1.43.59L10.3 9.45l-7.72 7.72c-.78.78-.78 2.05 0 2.83L4 21.41c.39.39.9.59 1.41.59.51 0 1.02-.2 1.41-.59l7.78-7.78 2.81-2.81c.8-.78.8-2.07 0-2.86zM5.41 20L4 18.59l7.72-7.72 1.47 1.35L5.41 20z\"/>\n",
              "  </svg>\n",
              "      </button>\n",
              "      \n",
              "  <style>\n",
              "    .colab-df-container {\n",
              "      display:flex;\n",
              "      flex-wrap:wrap;\n",
              "      gap: 12px;\n",
              "    }\n",
              "\n",
              "    .colab-df-convert {\n",
              "      background-color: #E8F0FE;\n",
              "      border: none;\n",
              "      border-radius: 50%;\n",
              "      cursor: pointer;\n",
              "      display: none;\n",
              "      fill: #1967D2;\n",
              "      height: 32px;\n",
              "      padding: 0 0 0 0;\n",
              "      width: 32px;\n",
              "    }\n",
              "\n",
              "    .colab-df-convert:hover {\n",
              "      background-color: #E2EBFA;\n",
              "      box-shadow: 0px 1px 2px rgba(60, 64, 67, 0.3), 0px 1px 3px 1px rgba(60, 64, 67, 0.15);\n",
              "      fill: #174EA6;\n",
              "    }\n",
              "\n",
              "    [theme=dark] .colab-df-convert {\n",
              "      background-color: #3B4455;\n",
              "      fill: #D2E3FC;\n",
              "    }\n",
              "\n",
              "    [theme=dark] .colab-df-convert:hover {\n",
              "      background-color: #434B5C;\n",
              "      box-shadow: 0px 1px 3px 1px rgba(0, 0, 0, 0.15);\n",
              "      filter: drop-shadow(0px 1px 2px rgba(0, 0, 0, 0.3));\n",
              "      fill: #FFFFFF;\n",
              "    }\n",
              "  </style>\n",
              "\n",
              "      <script>\n",
              "        const buttonEl =\n",
              "          document.querySelector('#df-850407a6-fa1d-49c9-89a2-33f7056cd4bd button.colab-df-convert');\n",
              "        buttonEl.style.display =\n",
              "          google.colab.kernel.accessAllowed ? 'block' : 'none';\n",
              "\n",
              "        async function convertToInteractive(key) {\n",
              "          const element = document.querySelector('#df-850407a6-fa1d-49c9-89a2-33f7056cd4bd');\n",
              "          const dataTable =\n",
              "            await google.colab.kernel.invokeFunction('convertToInteractive',\n",
              "                                                     [key], {});\n",
              "          if (!dataTable) return;\n",
              "\n",
              "          const docLinkHtml = 'Like what you see? Visit the ' +\n",
              "            '<a target=\"_blank\" href=https://colab.research.google.com/notebooks/data_table.ipynb>data table notebook</a>'\n",
              "            + ' to learn more about interactive tables.';\n",
              "          element.innerHTML = '';\n",
              "          dataTable['output_type'] = 'display_data';\n",
              "          await google.colab.output.renderOutput(dataTable, element);\n",
              "          const docLink = document.createElement('div');\n",
              "          docLink.innerHTML = docLinkHtml;\n",
              "          element.appendChild(docLink);\n",
              "        }\n",
              "      </script>\n",
              "    </div>\n",
              "  </div>\n",
              "  "
            ]
          },
          "metadata": {},
          "execution_count": 15
        }
      ]
    },
    {
      "cell_type": "markdown",
      "source": [
        "### Variables Description "
      ],
      "metadata": {
        "id": "PBTbrJXOngz2"
      }
    },
    {
      "cell_type": "markdown",
      "source": [
        "Answer Here\n",
        "![image.png](data:image/png;base64,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)"
      ],
      "metadata": {
        "id": "aJV4KIxSnxay"
      }
    },
    {
      "cell_type": "markdown",
      "source": [
        "### Check Unique Values for each variable."
      ],
      "metadata": {
        "id": "u3PMJOP6ngxN"
      }
    },
    {
      "cell_type": "code",
      "source": [
        "# Check Unique Values for each variable.\n",
        "for i in df.columns:\n",
        "  print(\"No. of unique values in '{}' is {}.\".format(i, df[i].nunique()))\n",
        "     "
      ],
      "metadata": {
        "id": "zms12Yq5n-jE",
        "colab": {
          "base_uri": "https://localhost:8080/"
        },
        "outputId": "26e85ff6-c445-4068-c549-2bfdf03cb506"
      },
      "execution_count": 16,
      "outputs": [
        {
          "output_type": "stream",
          "name": "stdout",
          "text": [
            "No. of unique values in 'show_id' is 7787.\n",
            "No. of unique values in 'type' is 2.\n",
            "No. of unique values in 'title' is 7787.\n",
            "No. of unique values in 'director' is 4049.\n",
            "No. of unique values in 'cast' is 6831.\n",
            "No. of unique values in 'country' is 681.\n",
            "No. of unique values in 'date_added' is 1565.\n",
            "No. of unique values in 'release_year' is 73.\n",
            "No. of unique values in 'rating' is 14.\n",
            "No. of unique values in 'duration' is 216.\n",
            "No. of unique values in 'listed_in' is 492.\n",
            "No. of unique values in 'description' is 7769.\n"
          ]
        }
      ]
    },
    {
      "cell_type": "markdown",
      "source": [
        "## 3. ***Data Wrangling***"
      ],
      "metadata": {
        "id": "dauF4eBmngu3"
      }
    },
    {
      "cell_type": "markdown",
      "source": [
        "### Data Wrangling Code"
      ],
      "metadata": {
        "id": "bKJF3rekwFvQ"
      }
    },
    {
      "cell_type": "code",
      "source": [
        "# Write your code to make your dataset analysis ready."
      ],
      "metadata": {
        "id": "wk-9a2fpoLcV"
      },
      "execution_count": null,
      "outputs": []
    },
    {
      "cell_type": "markdown",
      "source": [
        "### What all manipulations have you done and insights you found?"
      ],
      "metadata": {
        "id": "MSa1f5Uengrz"
      }
    },
    {
      "cell_type": "markdown",
      "source": [
        "Answer Here."
      ],
      "metadata": {
        "id": "LbyXE7I1olp8"
      }
    },
    {
      "cell_type": "markdown",
      "source": [
        "## ***4. Data Vizualization, Storytelling & Experimenting with charts : Understand the relationships between variables***"
      ],
      "metadata": {
        "id": "GF8Ens_Soomf"
      }
    },
    {
      "cell_type": "markdown",
      "source": [
        "#### Chart - 1"
      ],
      "metadata": {
        "id": "0wOQAZs5pc--"
      }
    },
    {
      "cell_type": "code",
      "source": [
        "# Chart - 1 visualization code"
      ],
      "metadata": {
        "id": "7v_ESjsspbW7"
      },
      "execution_count": null,
      "outputs": []
    },
    {
      "cell_type": "markdown",
      "source": [
        "##### 1. Why did you pick the specific chart?"
      ],
      "metadata": {
        "id": "K5QZ13OEpz2H"
      }
    },
    {
      "cell_type": "markdown",
      "source": [
        "Answer Here."
      ],
      "metadata": {
        "id": "XESiWehPqBRc"
      }
    },
    {
      "cell_type": "markdown",
      "source": [
        "##### 2. What is/are the insight(s) found from the chart?"
      ],
      "metadata": {
        "id": "lQ7QKXXCp7Bj"
      }
    },
    {
      "cell_type": "markdown",
      "source": [
        "Answer Here"
      ],
      "metadata": {
        "id": "C_j1G7yiqdRP"
      }
    },
    {
      "cell_type": "markdown",
      "source": [
        "##### 3. Will the gained insights help creating a positive business impact? \n",
        "Are there any insights that lead to negative growth? Justify with specific reason."
      ],
      "metadata": {
        "id": "448CDAPjqfQr"
      }
    },
    {
      "cell_type": "markdown",
      "source": [
        "Answer Here"
      ],
      "metadata": {
        "id": "3cspy4FjqxJW"
      }
    },
    {
      "cell_type": "markdown",
      "source": [
        "#### Chart - 2"
      ],
      "metadata": {
        "id": "KSlN3yHqYklG"
      }
    },
    {
      "cell_type": "code",
      "source": [
        "# Chart - 2 visualization code"
      ],
      "metadata": {
        "id": "R4YgtaqtYklH"
      },
      "execution_count": null,
      "outputs": []
    },
    {
      "cell_type": "markdown",
      "source": [
        "##### 1. Why did you pick the specific chart?"
      ],
      "metadata": {
        "id": "t6dVpIINYklI"
      }
    },
    {
      "cell_type": "markdown",
      "source": [
        "Answer Here."
      ],
      "metadata": {
        "id": "5aaW0BYyYklI"
      }
    },
    {
      "cell_type": "markdown",
      "source": [
        "##### 2. What is/are the insight(s) found from the chart?"
      ],
      "metadata": {
        "id": "ijmpgYnKYklI"
      }
    },
    {
      "cell_type": "markdown",
      "source": [
        "Answer Here"
      ],
      "metadata": {
        "id": "PSx9atu2YklI"
      }
    },
    {
      "cell_type": "markdown",
      "source": [
        "##### 3. Will the gained insights help creating a positive business impact? \n",
        "Are there any insights that lead to negative growth? Justify with specific reason."
      ],
      "metadata": {
        "id": "-JiQyfWJYklI"
      }
    },
    {
      "cell_type": "markdown",
      "source": [
        "Answer Here"
      ],
      "metadata": {
        "id": "BcBbebzrYklV"
      }
    },
    {
      "cell_type": "markdown",
      "source": [
        "#### Chart - 3"
      ],
      "metadata": {
        "id": "EM7whBJCYoAo"
      }
    },
    {
      "cell_type": "code",
      "source": [
        "# Chart - 3 visualization code"
      ],
      "metadata": {
        "id": "t6GMdE67YoAp"
      },
      "execution_count": null,
      "outputs": []
    },
    {
      "cell_type": "markdown",
      "source": [
        "##### 1. Why did you pick the specific chart?"
      ],
      "metadata": {
        "id": "fge-S5ZAYoAp"
      }
    },
    {
      "cell_type": "markdown",
      "source": [
        "Answer Here."
      ],
      "metadata": {
        "id": "5dBItgRVYoAp"
      }
    },
    {
      "cell_type": "markdown",
      "source": [
        "##### 2. What is/are the insight(s) found from the chart?"
      ],
      "metadata": {
        "id": "85gYPyotYoAp"
      }
    },
    {
      "cell_type": "markdown",
      "source": [
        "Answer Here"
      ],
      "metadata": {
        "id": "4jstXR6OYoAp"
      }
    },
    {
      "cell_type": "markdown",
      "source": [
        "##### 3. Will the gained insights help creating a positive business impact? \n",
        "Are there any insights that lead to negative growth? Justify with specific reason."
      ],
      "metadata": {
        "id": "RoGjAbkUYoAp"
      }
    },
    {
      "cell_type": "markdown",
      "source": [
        "Answer Here"
      ],
      "metadata": {
        "id": "zfJ8IqMcYoAp"
      }
    },
    {
      "cell_type": "markdown",
      "source": [
        "#### Chart - 4"
      ],
      "metadata": {
        "id": "4Of9eVA-YrdM"
      }
    },
    {
      "cell_type": "code",
      "source": [
        "# Chart - 4 visualization code"
      ],
      "metadata": {
        "id": "irlUoxc8YrdO"
      },
      "execution_count": null,
      "outputs": []
    },
    {
      "cell_type": "markdown",
      "source": [
        "##### 1. Why did you pick the specific chart?"
      ],
      "metadata": {
        "id": "iky9q4vBYrdO"
      }
    },
    {
      "cell_type": "markdown",
      "source": [
        "Answer Here."
      ],
      "metadata": {
        "id": "aJRCwT6DYrdO"
      }
    },
    {
      "cell_type": "markdown",
      "source": [
        "##### 2. What is/are the insight(s) found from the chart?"
      ],
      "metadata": {
        "id": "F6T5p64dYrdO"
      }
    },
    {
      "cell_type": "markdown",
      "source": [
        "Answer Here"
      ],
      "metadata": {
        "id": "Xx8WAJvtYrdO"
      }
    },
    {
      "cell_type": "markdown",
      "source": [
        "##### 3. Will the gained insights help creating a positive business impact? \n",
        "Are there any insights that lead to negative growth? Justify with specific reason."
      ],
      "metadata": {
        "id": "y-Ehk30pYrdP"
      }
    },
    {
      "cell_type": "markdown",
      "source": [
        "Answer Here"
      ],
      "metadata": {
        "id": "jLNxxz7MYrdP"
      }
    },
    {
      "cell_type": "markdown",
      "source": [
        "#### Chart - 5"
      ],
      "metadata": {
        "id": "bamQiAODYuh1"
      }
    },
    {
      "cell_type": "code",
      "source": [
        "# Chart - 5 visualization code"
      ],
      "metadata": {
        "id": "TIJwrbroYuh3"
      },
      "execution_count": null,
      "outputs": []
    },
    {
      "cell_type": "markdown",
      "source": [
        "##### 1. Why did you pick the specific chart?"
      ],
      "metadata": {
        "id": "QHF8YVU7Yuh3"
      }
    },
    {
      "cell_type": "markdown",
      "source": [
        "Answer Here."
      ],
      "metadata": {
        "id": "dcxuIMRPYuh3"
      }
    },
    {
      "cell_type": "markdown",
      "source": [
        "##### 2. What is/are the insight(s) found from the chart?"
      ],
      "metadata": {
        "id": "GwzvFGzlYuh3"
      }
    },
    {
      "cell_type": "markdown",
      "source": [
        "Answer Here"
      ],
      "metadata": {
        "id": "uyqkiB8YYuh3"
      }
    },
    {
      "cell_type": "markdown",
      "source": [
        "##### 3. Will the gained insights help creating a positive business impact? \n",
        "Are there any insights that lead to negative growth? Justify with specific reason."
      ],
      "metadata": {
        "id": "qYpmQ266Yuh3"
      }
    },
    {
      "cell_type": "markdown",
      "source": [
        "Answer Here"
      ],
      "metadata": {
        "id": "_WtzZ_hCYuh4"
      }
    },
    {
      "cell_type": "markdown",
      "source": [
        "#### Chart - 6"
      ],
      "metadata": {
        "id": "OH-pJp9IphqM"
      }
    },
    {
      "cell_type": "code",
      "source": [
        "# Chart - 6 visualization code"
      ],
      "metadata": {
        "id": "kuRf4wtuphqN"
      },
      "execution_count": null,
      "outputs": []
    },
    {
      "cell_type": "markdown",
      "source": [
        "##### 1. Why did you pick the specific chart?"
      ],
      "metadata": {
        "id": "bbFf2-_FphqN"
      }
    },
    {
      "cell_type": "markdown",
      "source": [
        "Answer Here."
      ],
      "metadata": {
        "id": "loh7H2nzphqN"
      }
    },
    {
      "cell_type": "markdown",
      "source": [
        "##### 2. What is/are the insight(s) found from the chart?"
      ],
      "metadata": {
        "id": "_ouA3fa0phqN"
      }
    },
    {
      "cell_type": "markdown",
      "source": [
        "Answer Here"
      ],
      "metadata": {
        "id": "VECbqPI7phqN"
      }
    },
    {
      "cell_type": "markdown",
      "source": [
        "##### 3. Will the gained insights help creating a positive business impact? \n",
        "Are there any insights that lead to negative growth? Justify with specific reason."
      ],
      "metadata": {
        "id": "Seke61FWphqN"
      }
    },
    {
      "cell_type": "markdown",
      "source": [
        "Answer Here"
      ],
      "metadata": {
        "id": "DW4_bGpfphqN"
      }
    },
    {
      "cell_type": "markdown",
      "source": [
        "#### Chart - 7"
      ],
      "metadata": {
        "id": "PIIx-8_IphqN"
      }
    },
    {
      "cell_type": "code",
      "source": [
        "# Chart - 7 visualization code"
      ],
      "metadata": {
        "id": "lqAIGUfyphqO"
      },
      "execution_count": null,
      "outputs": []
    },
    {
      "cell_type": "markdown",
      "source": [
        "##### 1. Why did you pick the specific chart?"
      ],
      "metadata": {
        "id": "t27r6nlMphqO"
      }
    },
    {
      "cell_type": "markdown",
      "source": [
        "Answer Here."
      ],
      "metadata": {
        "id": "iv6ro40sphqO"
      }
    },
    {
      "cell_type": "markdown",
      "source": [
        "##### 2. What is/are the insight(s) found from the chart?"
      ],
      "metadata": {
        "id": "r2jJGEOYphqO"
      }
    },
    {
      "cell_type": "markdown",
      "source": [
        "Answer Here"
      ],
      "metadata": {
        "id": "Po6ZPi4hphqO"
      }
    },
    {
      "cell_type": "markdown",
      "source": [
        "##### 3. Will the gained insights help creating a positive business impact? \n",
        "Are there any insights that lead to negative growth? Justify with specific reason."
      ],
      "metadata": {
        "id": "b0JNsNcRphqO"
      }
    },
    {
      "cell_type": "markdown",
      "source": [
        "Answer Here"
      ],
      "metadata": {
        "id": "xvSq8iUTphqO"
      }
    },
    {
      "cell_type": "markdown",
      "source": [
        "#### Chart - 8"
      ],
      "metadata": {
        "id": "BZR9WyysphqO"
      }
    },
    {
      "cell_type": "code",
      "source": [
        "# Chart - 8 visualization code"
      ],
      "metadata": {
        "id": "TdPTWpAVphqO"
      },
      "execution_count": null,
      "outputs": []
    },
    {
      "cell_type": "markdown",
      "source": [
        "##### 1. Why did you pick the specific chart?"
      ],
      "metadata": {
        "id": "jj7wYXLtphqO"
      }
    },
    {
      "cell_type": "markdown",
      "source": [
        "Answer Here."
      ],
      "metadata": {
        "id": "Ob8u6rCTphqO"
      }
    },
    {
      "cell_type": "markdown",
      "source": [
        "##### 2. What is/are the insight(s) found from the chart?"
      ],
      "metadata": {
        "id": "eZrbJ2SmphqO"
      }
    },
    {
      "cell_type": "markdown",
      "source": [
        "Answer Here"
      ],
      "metadata": {
        "id": "mZtgC_hjphqO"
      }
    },
    {
      "cell_type": "markdown",
      "source": [
        "##### 3. Will the gained insights help creating a positive business impact? \n",
        "Are there any insights that lead to negative growth? Justify with specific reason."
      ],
      "metadata": {
        "id": "rFu4xreNphqO"
      }
    },
    {
      "cell_type": "markdown",
      "source": [
        "Answer Here"
      ],
      "metadata": {
        "id": "ey_0qi68phqO"
      }
    },
    {
      "cell_type": "markdown",
      "source": [
        "#### Chart - 9"
      ],
      "metadata": {
        "id": "YJ55k-q6phqO"
      }
    },
    {
      "cell_type": "code",
      "source": [
        "# Chart - 9 visualization code"
      ],
      "metadata": {
        "id": "B2aS4O1ophqO"
      },
      "execution_count": null,
      "outputs": []
    },
    {
      "cell_type": "markdown",
      "source": [
        "##### 1. Why did you pick the specific chart?"
      ],
      "metadata": {
        "id": "gCFgpxoyphqP"
      }
    },
    {
      "cell_type": "markdown",
      "source": [
        "Answer Here."
      ],
      "metadata": {
        "id": "TVxDimi2phqP"
      }
    },
    {
      "cell_type": "markdown",
      "source": [
        "##### 2. What is/are the insight(s) found from the chart?"
      ],
      "metadata": {
        "id": "OVtJsKN_phqQ"
      }
    },
    {
      "cell_type": "markdown",
      "source": [
        "Answer Here"
      ],
      "metadata": {
        "id": "ngGi97qjphqQ"
      }
    },
    {
      "cell_type": "markdown",
      "source": [
        "##### 3. Will the gained insights help creating a positive business impact? \n",
        "Are there any insights that lead to negative growth? Justify with specific reason."
      ],
      "metadata": {
        "id": "lssrdh5qphqQ"
      }
    },
    {
      "cell_type": "markdown",
      "source": [
        "Answer Here"
      ],
      "metadata": {
        "id": "tBpY5ekJphqQ"
      }
    },
    {
      "cell_type": "markdown",
      "source": [
        "#### Chart - 10"
      ],
      "metadata": {
        "id": "U2RJ9gkRphqQ"
      }
    },
    {
      "cell_type": "code",
      "source": [
        "# Chart - 10 visualization code"
      ],
      "metadata": {
        "id": "GM7a4YP4phqQ"
      },
      "execution_count": null,
      "outputs": []
    },
    {
      "cell_type": "markdown",
      "source": [
        "##### 1. Why did you pick the specific chart?"
      ],
      "metadata": {
        "id": "1M8mcRywphqQ"
      }
    },
    {
      "cell_type": "markdown",
      "source": [
        "Answer Here."
      ],
      "metadata": {
        "id": "8agQvks0phqQ"
      }
    },
    {
      "cell_type": "markdown",
      "source": [
        "##### 2. What is/are the insight(s) found from the chart?"
      ],
      "metadata": {
        "id": "tgIPom80phqQ"
      }
    },
    {
      "cell_type": "markdown",
      "source": [
        "Answer Here"
      ],
      "metadata": {
        "id": "Qp13pnNzphqQ"
      }
    },
    {
      "cell_type": "markdown",
      "source": [
        "##### 3. Will the gained insights help creating a positive business impact? \n",
        "Are there any insights that lead to negative growth? Justify with specific reason."
      ],
      "metadata": {
        "id": "JMzcOPDDphqR"
      }
    },
    {
      "cell_type": "markdown",
      "source": [
        "Answer Here"
      ],
      "metadata": {
        "id": "R4Ka1PC2phqR"
      }
    },
    {
      "cell_type": "markdown",
      "source": [
        "#### Chart - 11"
      ],
      "metadata": {
        "id": "x-EpHcCOp1ci"
      }
    },
    {
      "cell_type": "code",
      "source": [
        "# Chart - 11 visualization code"
      ],
      "metadata": {
        "id": "mAQTIvtqp1cj"
      },
      "execution_count": null,
      "outputs": []
    },
    {
      "cell_type": "markdown",
      "source": [
        "##### 1. Why did you pick the specific chart?"
      ],
      "metadata": {
        "id": "X_VqEhTip1ck"
      }
    },
    {
      "cell_type": "markdown",
      "source": [
        "Answer Here."
      ],
      "metadata": {
        "id": "-vsMzt_np1ck"
      }
    },
    {
      "cell_type": "markdown",
      "source": [
        "##### 2. What is/are the insight(s) found from the chart?"
      ],
      "metadata": {
        "id": "8zGJKyg5p1ck"
      }
    },
    {
      "cell_type": "markdown",
      "source": [
        "Answer Here"
      ],
      "metadata": {
        "id": "ZYdMsrqVp1ck"
      }
    },
    {
      "cell_type": "markdown",
      "source": [
        "##### 3. Will the gained insights help creating a positive business impact? \n",
        "Are there any insights that lead to negative growth? Justify with specific reason."
      ],
      "metadata": {
        "id": "PVzmfK_Ep1ck"
      }
    },
    {
      "cell_type": "markdown",
      "source": [
        "Answer Here"
      ],
      "metadata": {
        "id": "druuKYZpp1ck"
      }
    },
    {
      "cell_type": "markdown",
      "source": [
        "#### Chart - 12"
      ],
      "metadata": {
        "id": "n3dbpmDWp1ck"
      }
    },
    {
      "cell_type": "code",
      "source": [
        "# Chart - 12 visualization code"
      ],
      "metadata": {
        "id": "bwevp1tKp1ck"
      },
      "execution_count": null,
      "outputs": []
    },
    {
      "cell_type": "markdown",
      "source": [
        "##### 1. Why did you pick the specific chart?"
      ],
      "metadata": {
        "id": "ylSl6qgtp1ck"
      }
    },
    {
      "cell_type": "markdown",
      "source": [
        "Answer Here."
      ],
      "metadata": {
        "id": "m2xqNkiQp1ck"
      }
    },
    {
      "cell_type": "markdown",
      "source": [
        "##### 2. What is/are the insight(s) found from the chart?"
      ],
      "metadata": {
        "id": "ZWILFDl5p1ck"
      }
    },
    {
      "cell_type": "markdown",
      "source": [
        "Answer Here"
      ],
      "metadata": {
        "id": "x-lUsV2mp1ck"
      }
    },
    {
      "cell_type": "markdown",
      "source": [
        "##### 3. Will the gained insights help creating a positive business impact? \n",
        "Are there any insights that lead to negative growth? Justify with specific reason."
      ],
      "metadata": {
        "id": "M7G43BXep1ck"
      }
    },
    {
      "cell_type": "markdown",
      "source": [
        "Answer Here"
      ],
      "metadata": {
        "id": "5wwDJXsLp1cl"
      }
    },
    {
      "cell_type": "markdown",
      "source": [
        "#### Chart - 13"
      ],
      "metadata": {
        "id": "Ag9LCva-p1cl"
      }
    },
    {
      "cell_type": "code",
      "source": [
        "# Chart - 13 visualization code"
      ],
      "metadata": {
        "id": "EUfxeq9-p1cl"
      },
      "execution_count": null,
      "outputs": []
    },
    {
      "cell_type": "markdown",
      "source": [
        "##### 1. Why did you pick the specific chart?"
      ],
      "metadata": {
        "id": "E6MkPsBcp1cl"
      }
    },
    {
      "cell_type": "markdown",
      "source": [
        "Answer Here."
      ],
      "metadata": {
        "id": "V22bRsFWp1cl"
      }
    },
    {
      "cell_type": "markdown",
      "source": [
        "##### 2. What is/are the insight(s) found from the chart?"
      ],
      "metadata": {
        "id": "2cELzS2fp1cl"
      }
    },
    {
      "cell_type": "markdown",
      "source": [
        "Answer Here"
      ],
      "metadata": {
        "id": "ozQPc2_Ip1cl"
      }
    },
    {
      "cell_type": "markdown",
      "source": [
        "##### 3. Will the gained insights help creating a positive business impact? \n",
        "Are there any insights that lead to negative growth? Justify with specific reason."
      ],
      "metadata": {
        "id": "3MPXvC8up1cl"
      }
    },
    {
      "cell_type": "markdown",
      "source": [
        "Answer Here"
      ],
      "metadata": {
        "id": "GL8l1tdLp1cl"
      }
    },
    {
      "cell_type": "markdown",
      "source": [
        "#### Chart - 14 - Correlation Heatmap"
      ],
      "metadata": {
        "id": "NC_X3p0fY2L0"
      }
    },
    {
      "cell_type": "code",
      "source": [
        "# Correlation Heatmap visualization code"
      ],
      "metadata": {
        "id": "xyC9zolEZNRQ"
      },
      "execution_count": null,
      "outputs": []
    },
    {
      "cell_type": "markdown",
      "source": [
        "##### 1. Why did you pick the specific chart?"
      ],
      "metadata": {
        "id": "UV0SzAkaZNRQ"
      }
    },
    {
      "cell_type": "markdown",
      "source": [
        "Answer Here."
      ],
      "metadata": {
        "id": "DVPuT8LYZNRQ"
      }
    },
    {
      "cell_type": "markdown",
      "source": [
        "##### 2. What is/are the insight(s) found from the chart?"
      ],
      "metadata": {
        "id": "YPEH6qLeZNRQ"
      }
    },
    {
      "cell_type": "markdown",
      "source": [
        "Answer Here"
      ],
      "metadata": {
        "id": "bfSqtnDqZNRR"
      }
    },
    {
      "cell_type": "markdown",
      "source": [
        "#### Chart - 15 - Pair Plot "
      ],
      "metadata": {
        "id": "q29F0dvdveiT"
      }
    },
    {
      "cell_type": "code",
      "source": [
        "# Pair Plot visualization code"
      ],
      "metadata": {
        "id": "o58-TEIhveiU"
      },
      "execution_count": null,
      "outputs": []
    },
    {
      "cell_type": "markdown",
      "source": [
        "##### 1. Why did you pick the specific chart?"
      ],
      "metadata": {
        "id": "EXh0U9oCveiU"
      }
    },
    {
      "cell_type": "markdown",
      "source": [
        "Answer Here."
      ],
      "metadata": {
        "id": "eMmPjTByveiU"
      }
    },
    {
      "cell_type": "markdown",
      "source": [
        "##### 2. What is/are the insight(s) found from the chart?"
      ],
      "metadata": {
        "id": "22aHeOlLveiV"
      }
    },
    {
      "cell_type": "markdown",
      "source": [
        "Answer Here"
      ],
      "metadata": {
        "id": "uPQ8RGwHveiV"
      }
    },
    {
      "cell_type": "markdown",
      "source": [
        "## ***5. Hypothesis Testing***"
      ],
      "metadata": {
        "id": "g-ATYxFrGrvw"
      }
    },
    {
      "cell_type": "markdown",
      "source": [
        "### Based on your chart experiments, define three hypothetical statements from the dataset. In the next three questions, perform hypothesis testing to obtain final conclusion about the statements through your code and statistical testing."
      ],
      "metadata": {
        "id": "Yfr_Vlr8HBkt"
      }
    },
    {
      "cell_type": "markdown",
      "source": [
        "Answer Here."
      ],
      "metadata": {
        "id": "-7MS06SUHkB-"
      }
    },
    {
      "cell_type": "markdown",
      "source": [
        "### Hypothetical Statement - 1"
      ],
      "metadata": {
        "id": "8yEUt7NnHlrM"
      }
    },
    {
      "cell_type": "markdown",
      "source": [
        "#### 1. State Your research hypothesis as a null hypothesis and alternate hypothesis."
      ],
      "metadata": {
        "id": "tEA2Xm5dHt1r"
      }
    },
    {
      "cell_type": "markdown",
      "source": [
        "Answer Here."
      ],
      "metadata": {
        "id": "HI9ZP0laH0D-"
      }
    },
    {
      "cell_type": "markdown",
      "source": [
        "#### 2. Perform an appropriate statistical test."
      ],
      "metadata": {
        "id": "I79__PHVH19G"
      }
    },
    {
      "cell_type": "code",
      "source": [
        "# Perform Statistical Test to obtain P-Value"
      ],
      "metadata": {
        "id": "oZrfquKtyian"
      },
      "execution_count": null,
      "outputs": []
    },
    {
      "cell_type": "markdown",
      "source": [
        "##### Which statistical test have you done to obtain P-Value?"
      ],
      "metadata": {
        "id": "Ou-I18pAyIpj"
      }
    },
    {
      "cell_type": "markdown",
      "source": [
        "Answer Here."
      ],
      "metadata": {
        "id": "s2U0kk00ygSB"
      }
    },
    {
      "cell_type": "markdown",
      "source": [
        "##### Why did you choose the specific statistical test?"
      ],
      "metadata": {
        "id": "fF3858GYyt-u"
      }
    },
    {
      "cell_type": "markdown",
      "source": [
        "Answer Here."
      ],
      "metadata": {
        "id": "HO4K0gP5y3B4"
      }
    },
    {
      "cell_type": "markdown",
      "source": [
        "### Hypothetical Statement - 2"
      ],
      "metadata": {
        "id": "4_0_7-oCpUZd"
      }
    },
    {
      "cell_type": "markdown",
      "source": [
        "#### 1. State Your research hypothesis as a null hypothesis and alternate hypothesis."
      ],
      "metadata": {
        "id": "hwyV_J3ipUZe"
      }
    },
    {
      "cell_type": "markdown",
      "source": [
        "Answer Here."
      ],
      "metadata": {
        "id": "FnpLGJ-4pUZe"
      }
    },
    {
      "cell_type": "markdown",
      "source": [
        "#### 2. Perform an appropriate statistical test."
      ],
      "metadata": {
        "id": "3yB-zSqbpUZe"
      }
    },
    {
      "cell_type": "code",
      "source": [
        "# Perform Statistical Test to obtain P-Value"
      ],
      "metadata": {
        "id": "sWxdNTXNpUZe"
      },
      "execution_count": null,
      "outputs": []
    },
    {
      "cell_type": "markdown",
      "source": [
        "##### Which statistical test have you done to obtain P-Value?"
      ],
      "metadata": {
        "id": "dEUvejAfpUZe"
      }
    },
    {
      "cell_type": "markdown",
      "source": [
        "Answer Here."
      ],
      "metadata": {
        "id": "oLDrPz7HpUZf"
      }
    },
    {
      "cell_type": "markdown",
      "source": [
        "##### Why did you choose the specific statistical test?"
      ],
      "metadata": {
        "id": "Fd15vwWVpUZf"
      }
    },
    {
      "cell_type": "markdown",
      "source": [
        "Answer Here."
      ],
      "metadata": {
        "id": "4xOGYyiBpUZf"
      }
    },
    {
      "cell_type": "markdown",
      "source": [
        "### Hypothetical Statement - 3"
      ],
      "metadata": {
        "id": "bn_IUdTipZyH"
      }
    },
    {
      "cell_type": "markdown",
      "source": [
        "#### 1. State Your research hypothesis as a null hypothesis and alternate hypothesis."
      ],
      "metadata": {
        "id": "49K5P_iCpZyH"
      }
    },
    {
      "cell_type": "markdown",
      "source": [
        "Answer Here."
      ],
      "metadata": {
        "id": "7gWI5rT9pZyH"
      }
    },
    {
      "cell_type": "markdown",
      "source": [
        "#### 2. Perform an appropriate statistical test."
      ],
      "metadata": {
        "id": "Nff-vKELpZyI"
      }
    },
    {
      "cell_type": "code",
      "source": [
        "# Perform Statistical Test to obtain P-Value"
      ],
      "metadata": {
        "id": "s6AnJQjtpZyI"
      },
      "execution_count": null,
      "outputs": []
    },
    {
      "cell_type": "markdown",
      "source": [
        "##### Which statistical test have you done to obtain P-Value?"
      ],
      "metadata": {
        "id": "kLW572S8pZyI"
      }
    },
    {
      "cell_type": "markdown",
      "source": [
        "Answer Here."
      ],
      "metadata": {
        "id": "ytWJ8v15pZyI"
      }
    },
    {
      "cell_type": "markdown",
      "source": [
        "##### Why did you choose the specific statistical test?"
      ],
      "metadata": {
        "id": "dWbDXHzopZyI"
      }
    },
    {
      "cell_type": "markdown",
      "source": [
        "Answer Here."
      ],
      "metadata": {
        "id": "M99G98V6pZyI"
      }
    },
    {
      "cell_type": "markdown",
      "source": [
        "## ***6. Feature Engineering & Data Pre-processing***"
      ],
      "metadata": {
        "id": "yLjJCtPM0KBk"
      }
    },
    {
      "cell_type": "markdown",
      "source": [
        "### 1. Handling Missing Values"
      ],
      "metadata": {
        "id": "xiyOF9F70UgQ"
      }
    },
    {
      "cell_type": "code",
      "source": [
        "# Handling Missing Values & Missing Value Imputation"
      ],
      "metadata": {
        "id": "iRsAHk1K0fpS"
      },
      "execution_count": null,
      "outputs": []
    },
    {
      "cell_type": "markdown",
      "source": [
        "#### What all missing value imputation techniques have you used and why did you use those techniques?"
      ],
      "metadata": {
        "id": "7wuGOrhz0itI"
      }
    },
    {
      "cell_type": "markdown",
      "source": [
        "Answer Here."
      ],
      "metadata": {
        "id": "1ixusLtI0pqI"
      }
    },
    {
      "cell_type": "markdown",
      "source": [
        "### 2. Handling Outliers"
      ],
      "metadata": {
        "id": "id1riN9m0vUs"
      }
    },
    {
      "cell_type": "code",
      "source": [
        "# Handling Outliers & Outlier treatments"
      ],
      "metadata": {
        "id": "M6w2CzZf04JK"
      },
      "execution_count": null,
      "outputs": []
    },
    {
      "cell_type": "markdown",
      "source": [
        "##### What all outlier treatment techniques have you used and why did you use those techniques?"
      ],
      "metadata": {
        "id": "578E2V7j08f6"
      }
    },
    {
      "cell_type": "markdown",
      "source": [
        "Answer Here."
      ],
      "metadata": {
        "id": "uGZz5OrT1HH-"
      }
    },
    {
      "cell_type": "markdown",
      "source": [
        "### 3. Categorical Encoding"
      ],
      "metadata": {
        "id": "89xtkJwZ18nB"
      }
    },
    {
      "cell_type": "code",
      "source": [
        "# Encode your categorical columns"
      ],
      "metadata": {
        "id": "21JmIYMG2hEo"
      },
      "execution_count": null,
      "outputs": []
    },
    {
      "cell_type": "markdown",
      "source": [
        "#### What all categorical encoding techniques have you used & why did you use those techniques?"
      ],
      "metadata": {
        "id": "67NQN5KX2AMe"
      }
    },
    {
      "cell_type": "markdown",
      "source": [
        "Answer Here."
      ],
      "metadata": {
        "id": "UDaue5h32n_G"
      }
    },
    {
      "cell_type": "markdown",
      "source": [
        "### 4. Textual Data Preprocessing \n",
        "(It's mandatory for textual dataset i.e., NLP, Sentiment Analysis, Text Clustering etc.)"
      ],
      "metadata": {
        "id": "Iwf50b-R2tYG"
      }
    },
    {
      "cell_type": "markdown",
      "source": [
        "#### 1. Expand Contraction"
      ],
      "metadata": {
        "id": "GMQiZwjn3iu7"
      }
    },
    {
      "cell_type": "code",
      "source": [
        "# Expand Contraction"
      ],
      "metadata": {
        "id": "PTouz10C3oNN"
      },
      "execution_count": null,
      "outputs": []
    },
    {
      "cell_type": "markdown",
      "source": [
        "#### 2. Lower Casing"
      ],
      "metadata": {
        "id": "WVIkgGqN3qsr"
      }
    },
    {
      "cell_type": "code",
      "source": [
        "# Lower Casing"
      ],
      "metadata": {
        "id": "88JnJ1jN3w7j"
      },
      "execution_count": null,
      "outputs": []
    },
    {
      "cell_type": "markdown",
      "source": [
        "#### 3. Removing Punctuations"
      ],
      "metadata": {
        "id": "XkPnILGE3zoT"
      }
    },
    {
      "cell_type": "code",
      "source": [
        "# Remove Punctuations"
      ],
      "metadata": {
        "id": "vqbBqNaA33c0"
      },
      "execution_count": null,
      "outputs": []
    },
    {
      "cell_type": "markdown",
      "source": [
        "#### 4. Removing URLs & Removing words and digits contain digits."
      ],
      "metadata": {
        "id": "Hlsf0x5436Go"
      }
    },
    {
      "cell_type": "code",
      "source": [
        "# Remove URLs & Remove words and digits contain digits"
      ],
      "metadata": {
        "id": "2sxKgKxu4Ip3"
      },
      "execution_count": null,
      "outputs": []
    },
    {
      "cell_type": "markdown",
      "source": [
        "#### 5. Removing Stopwords & Removing White spaces"
      ],
      "metadata": {
        "id": "mT9DMSJo4nBL"
      }
    },
    {
      "cell_type": "code",
      "source": [
        "# Remove Stopwords"
      ],
      "metadata": {
        "id": "T2LSJh154s8W"
      },
      "execution_count": null,
      "outputs": []
    },
    {
      "cell_type": "code",
      "source": [
        "# Remove White spaces"
      ],
      "metadata": {
        "id": "EgLJGffy4vm0"
      },
      "execution_count": null,
      "outputs": []
    },
    {
      "cell_type": "markdown",
      "source": [
        "#### 6. Rephrase Text"
      ],
      "metadata": {
        "id": "c49ITxTc407N"
      }
    },
    {
      "cell_type": "code",
      "source": [
        "# Rephrase Text"
      ],
      "metadata": {
        "id": "foqY80Qu48N2"
      },
      "execution_count": null,
      "outputs": []
    },
    {
      "cell_type": "markdown",
      "source": [
        "#### 7. Tokenization"
      ],
      "metadata": {
        "id": "OeJFEK0N496M"
      }
    },
    {
      "cell_type": "code",
      "source": [
        "# Tokenization"
      ],
      "metadata": {
        "id": "ijx1rUOS5CUU"
      },
      "execution_count": null,
      "outputs": []
    },
    {
      "cell_type": "markdown",
      "source": [
        "#### 8. Text Normalization"
      ],
      "metadata": {
        "id": "9ExmJH0g5HBk"
      }
    },
    {
      "cell_type": "code",
      "source": [
        "# Normalizing Text (i.e., Stemming, Lemmatization etc.)"
      ],
      "metadata": {
        "id": "AIJ1a-Zc5PY8"
      },
      "execution_count": null,
      "outputs": []
    },
    {
      "cell_type": "markdown",
      "source": [
        "##### Which text normalization technique have you used and why?"
      ],
      "metadata": {
        "id": "cJNqERVU536h"
      }
    },
    {
      "cell_type": "markdown",
      "source": [
        "Answer Here."
      ],
      "metadata": {
        "id": "Z9jKVxE06BC1"
      }
    },
    {
      "cell_type": "markdown",
      "source": [
        "#### 9. Part of speech tagging"
      ],
      "metadata": {
        "id": "k5UmGsbsOxih"
      }
    },
    {
      "cell_type": "code",
      "source": [
        "# POS Taging"
      ],
      "metadata": {
        "id": "btT3ZJBAO6Ik"
      },
      "execution_count": null,
      "outputs": []
    },
    {
      "cell_type": "markdown",
      "source": [
        "#### 10. Text Vectorization"
      ],
      "metadata": {
        "id": "T0VqWOYE6DLQ"
      }
    },
    {
      "cell_type": "code",
      "source": [
        "# Vectorizing Text"
      ],
      "metadata": {
        "id": "yBRtdhth6JDE"
      },
      "execution_count": null,
      "outputs": []
    },
    {
      "cell_type": "markdown",
      "source": [
        "##### Which text vectorization technique have you used and why?"
      ],
      "metadata": {
        "id": "qBMux9mC6MCf"
      }
    },
    {
      "cell_type": "markdown",
      "source": [
        "Answer Here."
      ],
      "metadata": {
        "id": "su2EnbCh6UKQ"
      }
    },
    {
      "cell_type": "markdown",
      "source": [
        "### 4. Feature Manipulation & Selection"
      ],
      "metadata": {
        "id": "-oLEiFgy-5Pf"
      }
    },
    {
      "cell_type": "markdown",
      "source": [
        "#### 1. Feature Manipulation"
      ],
      "metadata": {
        "id": "C74aWNz2AliB"
      }
    },
    {
      "cell_type": "code",
      "source": [
        "# Manipulate Features to minimize feature correlation and create new features"
      ],
      "metadata": {
        "id": "h1qC4yhBApWC"
      },
      "execution_count": null,
      "outputs": []
    },
    {
      "cell_type": "markdown",
      "source": [
        "#### 2. Feature Selection"
      ],
      "metadata": {
        "id": "2DejudWSA-a0"
      }
    },
    {
      "cell_type": "code",
      "source": [
        "# Select your features wisely to avoid overfitting"
      ],
      "metadata": {
        "id": "YLhe8UmaBCEE"
      },
      "execution_count": null,
      "outputs": []
    },
    {
      "cell_type": "markdown",
      "source": [
        "##### What all feature selection methods have you used  and why?"
      ],
      "metadata": {
        "id": "pEMng2IbBLp7"
      }
    },
    {
      "cell_type": "markdown",
      "source": [
        "Answer Here."
      ],
      "metadata": {
        "id": "rb2Lh6Z8BgGs"
      }
    },
    {
      "cell_type": "markdown",
      "source": [
        "##### Which all features you found important and why?"
      ],
      "metadata": {
        "id": "rAdphbQ9Bhjc"
      }
    },
    {
      "cell_type": "markdown",
      "source": [
        "Answer Here."
      ],
      "metadata": {
        "id": "fGgaEstsBnaf"
      }
    },
    {
      "cell_type": "markdown",
      "source": [
        "### 5. Data Transformation"
      ],
      "metadata": {
        "id": "TNVZ9zx19K6k"
      }
    },
    {
      "cell_type": "markdown",
      "source": [
        "#### Do you think that your data needs to be transformed? If yes, which transformation have you used. Explain Why?"
      ],
      "metadata": {
        "id": "nqoHp30x9hH9"
      }
    },
    {
      "cell_type": "code",
      "source": [
        "# Transform Your data"
      ],
      "metadata": {
        "id": "I6quWQ1T9rtH"
      },
      "execution_count": null,
      "outputs": []
    },
    {
      "cell_type": "markdown",
      "source": [
        "### 6. Data Scaling"
      ],
      "metadata": {
        "id": "rMDnDkt2B6du"
      }
    },
    {
      "cell_type": "code",
      "source": [
        "# Scaling your data"
      ],
      "metadata": {
        "id": "dL9LWpySC6x_"
      },
      "execution_count": null,
      "outputs": []
    },
    {
      "cell_type": "markdown",
      "source": [
        "##### Which method have you used to scale you data and why?"
      ],
      "metadata": {
        "id": "yiiVWRdJDDil"
      }
    },
    {
      "cell_type": "markdown",
      "source": [
        "### 7. Dimesionality Reduction"
      ],
      "metadata": {
        "id": "1UUpS68QDMuG"
      }
    },
    {
      "cell_type": "markdown",
      "source": [
        "##### Do you think that dimensionality reduction is needed? Explain Why?"
      ],
      "metadata": {
        "id": "kexQrXU-DjzY"
      }
    },
    {
      "cell_type": "markdown",
      "source": [
        "Answer Here."
      ],
      "metadata": {
        "id": "GGRlBsSGDtTQ"
      }
    },
    {
      "cell_type": "code",
      "source": [
        "# DImensionality Reduction (If needed)"
      ],
      "metadata": {
        "id": "kQfvxBBHDvCa"
      },
      "execution_count": null,
      "outputs": []
    },
    {
      "cell_type": "markdown",
      "source": [
        "##### Which dimensionality reduction technique have you used and why? (If dimensionality reduction done on dataset.)"
      ],
      "metadata": {
        "id": "T5CmagL3EC8N"
      }
    },
    {
      "cell_type": "markdown",
      "source": [
        "Answer Here."
      ],
      "metadata": {
        "id": "ZKr75IDuEM7t"
      }
    },
    {
      "cell_type": "markdown",
      "source": [
        "### 8. Data Splitting"
      ],
      "metadata": {
        "id": "BhH2vgX9EjGr"
      }
    },
    {
      "cell_type": "code",
      "source": [
        "# Split your data to train and test. Choose Splitting ratio wisely."
      ],
      "metadata": {
        "id": "0CTyd2UwEyNM"
      },
      "execution_count": null,
      "outputs": []
    },
    {
      "cell_type": "markdown",
      "source": [
        "##### What data splitting ratio have you used and why? "
      ],
      "metadata": {
        "id": "qjKvONjwE8ra"
      }
    },
    {
      "cell_type": "markdown",
      "source": [
        "Answer Here."
      ],
      "metadata": {
        "id": "Y2lJ8cobFDb_"
      }
    },
    {
      "cell_type": "markdown",
      "source": [
        "### 9. Handling Imbalanced Dataset"
      ],
      "metadata": {
        "id": "P1XJ9OREExlT"
      }
    },
    {
      "cell_type": "markdown",
      "source": [
        "##### Do you think the dataset is imbalanced? Explain Why."
      ],
      "metadata": {
        "id": "VFOzZv6IFROw"
      }
    },
    {
      "cell_type": "markdown",
      "source": [
        "Answer Here."
      ],
      "metadata": {
        "id": "GeKDIv7pFgcC"
      }
    },
    {
      "cell_type": "code",
      "source": [
        "# Handling Imbalanced Dataset (If needed)"
      ],
      "metadata": {
        "id": "nQsRhhZLFiDs"
      },
      "execution_count": null,
      "outputs": []
    },
    {
      "cell_type": "markdown",
      "source": [
        "##### What technique did you use to handle the imbalance dataset and why? (If needed to be balanced)"
      ],
      "metadata": {
        "id": "TIqpNgepFxVj"
      }
    },
    {
      "cell_type": "markdown",
      "source": [
        "Answer Here."
      ],
      "metadata": {
        "id": "qbet1HwdGDTz"
      }
    },
    {
      "cell_type": "markdown",
      "source": [
        "## ***7. ML Model Implementation***"
      ],
      "metadata": {
        "id": "VfCC591jGiD4"
      }
    },
    {
      "cell_type": "markdown",
      "source": [
        "### ML Model - 1"
      ],
      "metadata": {
        "id": "OB4l2ZhMeS1U"
      }
    },
    {
      "cell_type": "code",
      "source": [
        "# ML Model - 1 Implementation\n",
        "\n",
        "# Fit the Algorithm\n",
        "\n",
        "# Predict on the model"
      ],
      "metadata": {
        "id": "7ebyywQieS1U"
      },
      "execution_count": null,
      "outputs": []
    },
    {
      "cell_type": "markdown",
      "source": [
        "#### 1. Explain the ML Model used and it's performance using Evaluation metric Score Chart."
      ],
      "metadata": {
        "id": "ArJBuiUVfxKd"
      }
    },
    {
      "cell_type": "code",
      "source": [
        "# Visualizing evaluation Metric Score chart"
      ],
      "metadata": {
        "id": "rqD5ZohzfxKe"
      },
      "execution_count": null,
      "outputs": []
    },
    {
      "cell_type": "markdown",
      "source": [
        "#### 2. Cross- Validation & Hyperparameter Tuning"
      ],
      "metadata": {
        "id": "4qY1EAkEfxKe"
      }
    },
    {
      "cell_type": "code",
      "source": [
        "# ML Model - 1 Implementation with hyperparameter optimization techniques (i.e., GridSearch CV, RandomSearch CV, Bayesian Optimization etc.)\n",
        "\n",
        "# Fit the Algorithm\n",
        "\n",
        "# Predict on the model"
      ],
      "metadata": {
        "id": "Dy61ujd6fxKe"
      },
      "execution_count": null,
      "outputs": []
    },
    {
      "cell_type": "markdown",
      "source": [
        "##### Which hyperparameter optimization technique have you used and why?"
      ],
      "metadata": {
        "id": "PiV4Ypx8fxKe"
      }
    },
    {
      "cell_type": "markdown",
      "source": [
        "Answer Here."
      ],
      "metadata": {
        "id": "negyGRa7fxKf"
      }
    },
    {
      "cell_type": "markdown",
      "source": [
        "##### Have you seen any improvement? Note down the improvement with updates Evaluation metric Score Chart."
      ],
      "metadata": {
        "id": "TfvqoZmBfxKf"
      }
    },
    {
      "cell_type": "markdown",
      "source": [
        "Answer Here."
      ],
      "metadata": {
        "id": "OaLui8CcfxKf"
      }
    },
    {
      "cell_type": "markdown",
      "source": [
        "### ML Model - 2"
      ],
      "metadata": {
        "id": "dJ2tPlVmpsJ0"
      }
    },
    {
      "cell_type": "markdown",
      "source": [
        "#### 1. Explain the ML Model used and it's performance using Evaluation metric Score Chart."
      ],
      "metadata": {
        "id": "JWYfwnehpsJ1"
      }
    },
    {
      "cell_type": "code",
      "source": [
        "# Visualizing evaluation Metric Score chart"
      ],
      "metadata": {
        "id": "yEl-hgQWpsJ1"
      },
      "execution_count": null,
      "outputs": []
    },
    {
      "cell_type": "markdown",
      "source": [
        "#### 2. Cross- Validation & Hyperparameter Tuning"
      ],
      "metadata": {
        "id": "-jK_YjpMpsJ2"
      }
    },
    {
      "cell_type": "code",
      "source": [
        "# ML Model - 1 Implementation with hyperparameter optimization techniques (i.e., GridSearch CV, RandomSearch CV, Bayesian Optimization etc.)\n",
        "\n",
        "# Fit the Algorithm\n",
        "\n",
        "# Predict on the model"
      ],
      "metadata": {
        "id": "Dn0EOfS6psJ2"
      },
      "execution_count": null,
      "outputs": []
    },
    {
      "cell_type": "markdown",
      "source": [
        "##### Which hyperparameter optimization technique have you used and why?"
      ],
      "metadata": {
        "id": "HAih1iBOpsJ2"
      }
    },
    {
      "cell_type": "markdown",
      "source": [
        "Answer Here."
      ],
      "metadata": {
        "id": "9kBgjYcdpsJ2"
      }
    },
    {
      "cell_type": "markdown",
      "source": [
        "##### Have you seen any improvement? Note down the improvement with updates Evaluation metric Score Chart."
      ],
      "metadata": {
        "id": "zVGeBEFhpsJ2"
      }
    },
    {
      "cell_type": "markdown",
      "source": [
        "Answer Here."
      ],
      "metadata": {
        "id": "74yRdG6UpsJ3"
      }
    },
    {
      "cell_type": "markdown",
      "source": [
        "#### 3. Explain each evaluation metric's indication towards business and the business impact pf the ML model used."
      ],
      "metadata": {
        "id": "bmKjuQ-FpsJ3"
      }
    },
    {
      "cell_type": "markdown",
      "source": [
        "Answer Here."
      ],
      "metadata": {
        "id": "BDKtOrBQpsJ3"
      }
    },
    {
      "cell_type": "markdown",
      "source": [
        "### ML Model - 3"
      ],
      "metadata": {
        "id": "Fze-IPXLpx6K"
      }
    },
    {
      "cell_type": "code",
      "source": [
        "# ML Model - 3 Implementation\n",
        "\n",
        "# Fit the Algorithm\n",
        "\n",
        "# Predict on the model"
      ],
      "metadata": {
        "id": "FFrSXAtrpx6M"
      },
      "execution_count": null,
      "outputs": []
    },
    {
      "cell_type": "markdown",
      "source": [
        "#### 1. Explain the ML Model used and it's performance using Evaluation metric Score Chart."
      ],
      "metadata": {
        "id": "7AN1z2sKpx6M"
      }
    },
    {
      "cell_type": "code",
      "source": [
        "# Visualizing evaluation Metric Score chart"
      ],
      "metadata": {
        "id": "xIY4lxxGpx6M"
      },
      "execution_count": null,
      "outputs": []
    },
    {
      "cell_type": "markdown",
      "source": [
        "#### 2. Cross- Validation & Hyperparameter Tuning"
      ],
      "metadata": {
        "id": "9PIHJqyupx6M"
      }
    },
    {
      "cell_type": "code",
      "source": [
        "# ML Model - 3 Implementation with hyperparameter optimization techniques (i.e., GridSearch CV, RandomSearch CV, Bayesian Optimization etc.)\n",
        "\n",
        "# Fit the Algorithm\n",
        "\n",
        "# Predict on the model"
      ],
      "metadata": {
        "id": "eSVXuaSKpx6M"
      },
      "execution_count": null,
      "outputs": []
    },
    {
      "cell_type": "markdown",
      "source": [
        "##### Which hyperparameter optimization technique have you used and why?"
      ],
      "metadata": {
        "id": "_-qAgymDpx6N"
      }
    },
    {
      "cell_type": "markdown",
      "source": [
        "Answer Here."
      ],
      "metadata": {
        "id": "lQMffxkwpx6N"
      }
    },
    {
      "cell_type": "markdown",
      "source": [
        "##### Have you seen any improvement? Note down the improvement with updates Evaluation metric Score Chart."
      ],
      "metadata": {
        "id": "Z-hykwinpx6N"
      }
    },
    {
      "cell_type": "markdown",
      "source": [
        "Answer Here."
      ],
      "metadata": {
        "id": "MzVzZC6opx6N"
      }
    },
    {
      "cell_type": "markdown",
      "source": [
        "### 1. Which Evaluation metrics did you consider for a positive business impact and why?"
      ],
      "metadata": {
        "id": "h_CCil-SKHpo"
      }
    },
    {
      "cell_type": "markdown",
      "source": [
        "Answer Here."
      ],
      "metadata": {
        "id": "jHVz9hHDKFms"
      }
    },
    {
      "cell_type": "markdown",
      "source": [
        "### 2. Which ML model did you choose from the above created models as your final prediction model and why?"
      ],
      "metadata": {
        "id": "cBFFvTBNJzUa"
      }
    },
    {
      "cell_type": "markdown",
      "source": [
        "Answer Here."
      ],
      "metadata": {
        "id": "6ksF5Q1LKTVm"
      }
    },
    {
      "cell_type": "markdown",
      "source": [
        "### 3. Explain the model which you have used and the feature importance using any model explainability tool?"
      ],
      "metadata": {
        "id": "HvGl1hHyA_VK"
      }
    },
    {
      "cell_type": "markdown",
      "source": [
        "Answer Here."
      ],
      "metadata": {
        "id": "YnvVTiIxBL-C"
      }
    },
    {
      "cell_type": "markdown",
      "source": [
        "## ***8.*** ***Future Work (Optional)***"
      ],
      "metadata": {
        "id": "EyNgTHvd2WFk"
      }
    },
    {
      "cell_type": "markdown",
      "source": [
        "### 1. Save the best performing ml model in a pickle file or joblib file format for deployment process.\n"
      ],
      "metadata": {
        "id": "KH5McJBi2d8v"
      }
    },
    {
      "cell_type": "code",
      "source": [
        "# Save the File"
      ],
      "metadata": {
        "id": "bQIANRl32f4J"
      },
      "execution_count": null,
      "outputs": []
    },
    {
      "cell_type": "markdown",
      "source": [
        "### 2. Again Load the saved model file and try to predict unseen data for a sanity check.\n"
      ],
      "metadata": {
        "id": "iW_Lq9qf2h6X"
      }
    },
    {
      "cell_type": "code",
      "source": [
        "# Load the File and predict unseen data."
      ],
      "metadata": {
        "id": "oEXk9ydD2nVC"
      },
      "execution_count": null,
      "outputs": []
    },
    {
      "cell_type": "markdown",
      "source": [
        "### ***Congrats! Your model is successfully created and ready for deployment on a live server for a real user interaction !!!***"
      ],
      "metadata": {
        "id": "-Kee-DAl2viO"
      }
    },
    {
      "cell_type": "markdown",
      "source": [
        "# **Conclusion**"
      ],
      "metadata": {
        "id": "gCX9965dhzqZ"
      }
    },
    {
      "cell_type": "markdown",
      "source": [
        "Write the conclusion here."
      ],
      "metadata": {
        "id": "Fjb1IsQkh3yE"
      }
    },
    {
      "cell_type": "markdown",
      "source": [
        "### ***Hurrah! You have successfully completed your Machine Learning Capstone Project !!!***"
      ],
      "metadata": {
        "id": "gIfDvo9L0UH2"
      }
    }
  ]
}